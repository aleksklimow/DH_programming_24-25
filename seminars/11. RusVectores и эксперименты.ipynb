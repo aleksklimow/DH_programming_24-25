{
 "cells": [
  {
   "cell_type": "markdown",
   "id": "cc706dc4-d38b-47aa-a8f8-5a6827f89a8e",
   "metadata": {},
   "source": [
    "Сегодня мы поговорим о более крупных моделях, которые уже обучены другими. Такие модели намного более стабильны и их результат может быть релевантнее для решения широких задач. "
   ]
  },
  {
   "cell_type": "markdown",
   "id": "a42d5a20-b142-4601-9fd1-ab7a6d310e25",
   "metadata": {},
   "source": [
    "Текущий семинар основан на следующей статье Б. В. Орехова: https://habr.com/ru/articles/326380/  \n",
    "Некоторые ключевые позиции из введения:  \n",
    "1. В какой-то мере реальное словоупотребление могло бы контрастно оттенить потенциальное, которое можно найти в черновиках писателя. Писатель не сразу вдохновенно пишет свой текст от начала до конца, он мучается, выбирает между вариантами, те, что кажутся ему недостаточно выразительными, он вычеркивает и ищет новые.\n",
    "2. Черновики есть не для всех текстов, они отрывочны и читать их сложно. Однако можно провести такой эксперимент: заменить все поддающиеся замене слова на похожие, и читать классический текст параллельно с тем, которого никогда не было, но который мог бы возникнуть в какой-то параллельной вселенной."
   ]
  },
  {
   "cell_type": "markdown",
   "id": "4aead0d7-8afe-4d66-ad0b-d20da0f58eb9",
   "metadata": {},
   "source": [
    "Здесь мы научимся пользовать готовыми моделями и проведем этот небольшой исследовательский эксперимент. Мы будем пользоваться следующей моделью, подготовленной командой RusVectores (https://rusvectores.org/en/models/):"
   ]
  },
  {
   "attachments": {
    "3360d369-93ef-4815-973f-2047e52cbf9e.png": {
     "image/png": "[encoded data removed]"
    }
   },
   "cell_type": "markdown",
   "id": "08b400e4-7726-4d9c-939f-efffb586ed1c",
   "metadata": {},
   "source": [
    "![модель.png](attachment:3360d369-93ef-4815-973f-2047e52cbf9e.png)"
   ]
  },
  {
   "cell_type": "markdown",
   "id": "6c513165-14be-4bfe-8f32-a857a246bc8d",
   "metadata": {},
   "source": [
    "Чтобы реплицировать эксперимент, нам нужно получить ассоциаты/квазисинонимы для создания квазичерновиков. Мы с вами уже такое делали на основании наших небольших самообученных моделей."
   ]
  },
  {
   "cell_type": "code",
   "execution_count": null,
   "id": "3bae29c6-ce1c-4965-9ae2-3e87d50975ff",
   "metadata": {},
   "outputs": [],
   "source": [
    "import gensim\n",
    "from pymorphy3 import MorphAnalyzer\n",
    "from nltk.tokenize import word_tokenize\n",
    "from nltk.corpus import stopwords\n",
    "import re\n",
    "import os\n",
    "from tqdm import tqdm\n",
    "morph = MorphAnalyzer()\n",
    "stopwords_ru = set(stopwords.words('russian'))\n",
    "import random"
   ]
  },
  {
   "cell_type": "markdown",
   "id": "46f2594e-d10a-4da4-bff5-d564180750c7",
   "metadata": {},
   "source": [
    "Подгрузим модель из bin-файла."
   ]
  },
  {
   "cell_type": "code",
   "execution_count": null,
   "id": "5496e608-f96d-4c91-a063-b08dd9279d40",
   "metadata": {},
   "outputs": [],
   "source": [
    "model = gensim.models.KeyedVectors.load_word2vec_format('model.bin', binary=True)"
   ]
  },
  {
   "cell_type": "markdown",
   "id": "3c464231-58b4-468c-a9f2-23ed58e31e7d",
   "metadata": {},
   "source": [
    "Проверим, что модель работает корректно:"
   ]
  },
  {
   "cell_type": "code",
   "execution_count": null,
   "id": "19693805-36c8-42bf-ae87-8dac5add87b6",
   "metadata": {},
   "outputs": [],
   "source": [
    "print(model.most_similar('запад_NOUN'))"
   ]
  },
  {
   "cell_type": "markdown",
   "id": "9acb1945-0db3-416d-bd58-71341ef3b3de",
   "metadata": {},
   "source": [
    "Работает! Теперь сравним, например, результат с И. С.Аксаковым и компанией, а заодно научимся сохранять наши модели, чтобы не обучать их каждый раз заново."
   ]
  },
  {
   "cell_type": "code",
   "execution_count": null,
   "id": "393e3968-b36f-4234-af5d-e2e3a985962e",
   "metadata": {},
   "outputs": [],
   "source": [
    "path = 'Slavs/'\n",
    "corpus_tagged = []\n",
    "for filename in tqdm(os.listdir(path)):\n",
    "    with open(path + filename, encoding='utf-8') as txt:\n",
    "        text = txt.read()\n",
    "        text = re.sub(r'\\n', ' ', text)\n",
    "        text = re.sub(r'[^А-Яа-я -]', '', text.lower())\n",
    "        text = [str(morph.parse(token)[0].normal_form) + '_' + str(morph.parse(token)[0].tag.POS) for token in word_tokenize(text) if token not in stopwords_ru and len(token) > 2]\n",
    "        corpus_tagged.append(text)\n",
    "w2v_cbow_tagged = gensim.models.Word2Vec(corpus_tagged, vector_size=300, window=5, min_count=2, sg=0, epochs=5) "
   ]
  },
  {
   "cell_type": "markdown",
   "id": "b7a77748-39c5-41b2-94ee-fec2e7a8fd7d",
   "metadata": {},
   "source": [
    "Теперь сохраним обученную модель:"
   ]
  },
  {
   "cell_type": "code",
   "execution_count": null,
   "id": "7bca6346-b386-4ca5-a37c-f8e59d5f59f6",
   "metadata": {},
   "outputs": [],
   "source": [
    "w2v_cbow_tagged.wv.save_word2vec_format('aksakov_model.bin', binary=True) "
   ]
  },
  {
   "cell_type": "markdown",
   "id": "b23b022b-5190-486c-bfcf-2dce3036fc63",
   "metadata": {},
   "source": [
    "Выше мы сохранили модель в бинарном формате, который заметно компактнее; он удобен для распространения конечных версий моделей. Можно также сохранять более крупные, но при этом доступные к дообучению файлы следующим образом:"
   ]
  },
  {
   "cell_type": "code",
   "execution_count": null,
   "id": "2667d23d-483f-4a28-8643-49819d1b95da",
   "metadata": {},
   "outputs": [],
   "source": [
    "w2v_cbow_tagged.save('aksakov_mod.model')"
   ]
  },
  {
   "cell_type": "markdown",
   "id": "5d0fcf0c-a2a5-4d88-8cf1-6ecb5f11b6a3",
   "metadata": {},
   "source": [
    "Такой способ сохраняет не только вектора, но и параметры обучения."
   ]
  },
  {
   "cell_type": "markdown",
   "id": "44f004af-5c72-4f43-807a-ad32e6dd930f",
   "metadata": {},
   "source": [
    "Проверим, что сохраненная модель рабочая:"
   ]
  },
  {
   "cell_type": "code",
   "execution_count": null,
   "id": "bd371021-5b53-44e5-ae56-9bbb4444b37c",
   "metadata": {},
   "outputs": [],
   "source": [
    "model_aks = gensim.models.KeyedVectors.load_word2vec_format('aksakov_model.bin', binary=True)"
   ]
  },
  {
   "cell_type": "code",
   "execution_count": null,
   "id": "48d132e9-5275-49b1-9a8b-594e67b60d9e",
   "metadata": {},
   "outputs": [],
   "source": [
    "print(model_aks.most_similar('запад_NOUN'))\n",
    "print(model.most_similar('запад_NOUN'))"
   ]
  },
  {
   "cell_type": "markdown",
   "id": "69e09591-e677-4c9d-a382-b1acce7d2073",
   "metadata": {},
   "source": [
    "И сразу видно качественное отличие очень большой модели и нашей скромной."
   ]
  },
  {
   "cell_type": "markdown",
   "id": "ee64b0f7-4cfa-4c2d-a70c-decf1ac510fc",
   "metadata": {},
   "source": [
    "Перейдем к созданию псевдочерновиков. Начнем с \"Евгения Онегина\", с которым мы уже много работали."
   ]
  },
  {
   "cell_type": "markdown",
   "id": "73dd87f2-6020-44dd-bd14-7b65abb23b6c",
   "metadata": {},
   "source": [
    "Для начала просто откроем его:"
   ]
  },
  {
   "cell_type": "code",
   "execution_count": null,
   "id": "55f35bec-9e5c-4335-8c62-d63ec6912d9a",
   "metadata": {
    "scrolled": true
   },
   "outputs": [],
   "source": [
    "with open('EugeneOnegin.txt', encoding='utf-8') as txt:\n",
    "    text = txt.read()\n",
    "    text = re.sub(' +', ' ', text) #уберем множественные пробелы, которые используются для отбивки\n",
    "    print(text[63:445])"
   ]
  },
  {
   "cell_type": "code",
   "execution_count": null,
   "id": "739477e0-664c-4fd5-b058-2a0fa9862a23",
   "metadata": {},
   "outputs": [],
   "source": [
    "with open('EugeneOnegin.txt', encoding='utf-8') as txt:\n",
    "    text = txt.read()\n",
    "    text = re.sub(' +', ' ', text) #уберем множественные пробелы, которые используются для отбивки\n",
    "    text = text[63:445]\n",
    "    lines = text.split('\\n')\n",
    "    lines_prep = []\n",
    "    for line in lines:\n",
    "        lines_prep.append(' '.join(['_'.join([str(morph.parse(token)[0].normal_form), str(morph.parse(token)[0].tag.POS)]) for token in word_tokenize(line)]))\n",
    "   # text = ' '.join(['_'.join([str(morph.parse(token)[0].normal_form), str(morph.parse(token)[0].tag.POS)]) for token in word_tokenize(text)])"
   ]
  },
  {
   "cell_type": "markdown",
   "id": "2cf00ad7-6cdd-46fb-833f-8d11a6e04205",
   "metadata": {},
   "source": [
    "Отлично, мы получили первую строфу в начальной форме. "
   ]
  },
  {
   "cell_type": "code",
   "execution_count": null,
   "id": "355565d3-930f-4aa8-b513-dd653243b498",
   "metadata": {},
   "outputs": [],
   "source": [
    "lines_prep"
   ]
  },
  {
   "cell_type": "markdown",
   "id": "0d86ebe2-7560-4715-a3ae-e6b2e109ff37",
   "metadata": {},
   "source": [
    "Теперь надо заменить все возможное на ближайшие ассоциаты. Не имеет смысла менять служебные слова. Пойдем по частям речи. Начнем с существительных и просто посмотрим, что там происходит:"
   ]
  },
  {
   "cell_type": "code",
   "execution_count": null,
   "id": "d76d67a1-ea77-4042-9298-25d841de8a72",
   "metadata": {},
   "outputs": [],
   "source": [
    "for line in lines_prep:\n",
    "    for token in line.split():\n",
    "        if token[-4:] == 'NOUN':\n",
    "            print(f'{token} из \"Евгения Онегина\" = {model.most_similar(token)[0][0]} \"из векторной модели\"')"
   ]
  },
  {
   "cell_type": "markdown",
   "id": "1ed676a0-1f69-4167-a1d9-03ad0a7883f0",
   "metadata": {},
   "source": [
    "Теперь проведем замены:"
   ]
  },
  {
   "cell_type": "code",
   "execution_count": null,
   "id": "0b20ddbe-bd62-488c-87af-f084006552b4",
   "metadata": {},
   "outputs": [],
   "source": [
    "new_nouns_eug = []\n",
    "for line in lines_prep:\n",
    "    line_change = []\n",
    "    for token in line.split():\n",
    "        if token[-4:] == 'NOUN':\n",
    "            line_change.append(model.most_similar(token)[0][0][:-5])\n",
    "        else:\n",
    "            line_change.append(token[:-5])\n",
    "    new_nouns_eug.append(' '.join(line_change))"
   ]
  },
  {
   "cell_type": "code",
   "execution_count": null,
   "id": "85c94714-7c0f-4547-b1f5-8073a63386d9",
   "metadata": {},
   "outputs": [],
   "source": [
    "text_new = '\\n'.join(new_nouns_eug)\n",
    "text_new = re.sub('_', '', text_new)\n",
    "text_new = re.sub(r'\\s+([.,!?;:])', r'\\1', text_new) #уберем пробелы\n",
    "print(text_new)"
   ]
  },
  {
   "cell_type": "markdown",
   "id": "c1317963-83be-4518-bb7b-ef2a307575cc",
   "metadata": {},
   "source": [
    "Восстановим падежные формы. Pymorphy умеет восстанавливать формы с помощью inflect. У нас есть следующие падежи:\n",
    "1. **nomn**,\n",
    "2.  **gent**,\n",
    "3.  **datv**,\n",
    "4.  **accs**,\n",
    "5.  **ablt**,\n",
    "6.  **loct**."
   ]
  },
  {
   "cell_type": "markdown",
   "id": "e555aa46-10a5-4761-84ce-651e590d3ada",
   "metadata": {},
   "source": [
    "Получается это не самым простым образом:"
   ]
  },
  {
   "cell_type": "code",
   "execution_count": null,
   "id": "c0a5d3d2-26e4-478f-9ce8-44023e06971c",
   "metadata": {},
   "outputs": [],
   "source": [
    "morph.parse('племянник')[0].inflect({'accs'}).word"
   ]
  },
  {
   "cell_type": "markdown",
   "id": "1ebd8dca-e797-4e84-834c-0bc203a13787",
   "metadata": {},
   "source": [
    "Соберем по оригинальному тексту нужную нам грамматическую информацию:"
   ]
  },
  {
   "cell_type": "code",
   "execution_count": null,
   "id": "1e4e60e9-4c67-4e75-ac48-ca2a92424bf7",
   "metadata": {},
   "outputs": [],
   "source": [
    "nouns_cases = []\n",
    "for token in word_tokenize(text):\n",
    "    tok_parse = morph.parse(token)[0]\n",
    "    if tok_parse.tag.POS == 'NOUN':\n",
    "        nouns_cases.append(tok_parse.tag.case)\n",
    "print(nouns_cases)"
   ]
  },
  {
   "cell_type": "code",
   "execution_count": null,
   "id": "49e8b342-3ace-4402-b876-ae83fa031eed",
   "metadata": {
    "scrolled": true
   },
   "outputs": [],
   "source": [
    "counter = 0\n",
    "ind = 0\n",
    "new_text_cased_lst = []\n",
    "for line in text_new.split('\\n'):\n",
    "    new_line = []\n",
    "    for token in word_tokenize(line):\n",
    "        if morph.parse(token)[0].tag.POS == 'NOUN':\n",
    "            print(nouns_cases[counter])\n",
    "            new_line.append(morph.parse(token)[0].inflect({nouns_cases[counter]}).word)\n",
    "            counter += 1\n",
    "            ind += 1\n",
    "        else:\n",
    "            new_line.append(word_tokenize(text)[ind])\n",
    "            ind += 1\n",
    "    new_text_cased_lst.append(' '.join(new_line))"
   ]
  },
  {
   "cell_type": "markdown",
   "id": "5ef5bbcd-46cf-403f-ac40-1ecfb2194bac",
   "metadata": {},
   "source": [
    "Насладимся результатом (нам явно не хватило падежей, отсюда ошибка выше):"
   ]
  },
  {
   "cell_type": "code",
   "execution_count": null,
   "id": "80eb7c3d-1165-4c7a-b8e7-610b2cd99ac1",
   "metadata": {},
   "outputs": [],
   "source": [
    "new_text_cased = '\\n'.join(new_text_cased_lst)\n",
    "new_text_cased = re.sub(r'\\s+([.,!?;:])', r'\\1', new_text_cased) \n",
    "print(new_text_cased)"
   ]
  },
  {
   "cell_type": "markdown",
   "id": "7c32e44a-ad06-4a90-b559-5f5867c11fca",
   "metadata": {},
   "source": [
    "Теперь, когда понятен общий принцип, объединим все вместе и оптимизируем алгоритм:"
   ]
  },
  {
   "cell_type": "code",
   "execution_count": null,
   "id": "7473fdef-ca24-4356-91a1-446f4c7dbb3e",
   "metadata": {},
   "outputs": [],
   "source": [
    "with open('EugeneOnegin.txt', encoding='utf-8') as txt:\n",
    "    text = txt.read()\n",
    "    text = re.sub(' +', ' ', text) \n",
    "    text = text[63:445]\n",
    "    lines = text.split('\\n')\n",
    "    lines_prep = []\n",
    "    for line in lines:\n",
    "        new_line = []\n",
    "        for token in word_tokenize(line):\n",
    "            parse_tok = morph.parse(token)[0]\n",
    "            if parse_tok.tag.POS == 'NOUN':\n",
    "                case = parse_tok.tag.case\n",
    "                number = parse_tok.tag.number\n",
    "                new_noun = model.most_similar('_'.join([parse_tok.normal_form, 'NOUN']))[0][0]\n",
    "                new_noun = re.sub('_[A-Z]+', '', new_noun)\n",
    "                new_line.append(morph.parse(new_noun)[0].inflect({case, number}).word)\n",
    "            else:\n",
    "                new_line.append(token)\n",
    "        lines_prep.append(' '.join(new_line))\n",
    "    final_strophe = '\\n'.join(lines_prep)\n",
    "    final_strophe = re.sub(r'\\s+([.,!?;:])', r'\\1', final_strophe) \n",
    "    print(final_strophe)"
   ]
  },
  {
   "cell_type": "markdown",
   "id": "0d9598fe-c73e-49b1-b760-663effcc6e21",
   "metadata": {},
   "source": [
    "Уже неплохо! Но нам нужно защититься от замен не на ту часть речи, если таковая случится. Для этого нам нужно брать некоторое количество топовых сходств, а не первое, а затем фильтровать. Поменяем чуть-чуть код:"
   ]
  },
  {
   "cell_type": "code",
   "execution_count": null,
   "id": "b3643c8a-7a84-4117-bf42-2491a41bc4fb",
   "metadata": {},
   "outputs": [],
   "source": [
    "with open('EugeneOnegin.txt', encoding='utf-8') as txt:\n",
    "    text = txt.read()\n",
    "    text = re.sub(' +', ' ', text) \n",
    "    text = text[63:445]\n",
    "    lines = text.split('\\n')\n",
    "    lines_prep = []\n",
    "    for line in lines:\n",
    "        new_line = []\n",
    "        for token in word_tokenize(line):\n",
    "            parse_tok = morph.parse(token)[0]\n",
    "            if parse_tok.tag.POS == 'NOUN':\n",
    "                case = parse_tok.tag.case\n",
    "                number = parse_tok.tag.number\n",
    "                similar_words = model.most_similar('_'.join([parse_tok.normal_form, 'NOUN']), topn=10)\n",
    "                for sim_word in similar_words:\n",
    "                    if sim_word[0][-4:] == 'NOUN':\n",
    "                        new_noun = re.sub('_[A-Z]+', '', sim_word[0])\n",
    "                        new_line.append(morph.parse(new_noun)[0].inflect({case, number}).word)\n",
    "                        break\n",
    "                    else:\n",
    "                        continue\n",
    "\n",
    "            else:\n",
    "                new_line.append(token)\n",
    "        lines_prep.append(' '.join(new_line))\n",
    "    final_strophe = '\\n'.join(lines_prep)\n",
    "    final_strophe = re.sub(r'\\s+([.,!?;:])', r'\\1', final_strophe) \n",
    "    print(final_strophe)"
   ]
  },
  {
   "cell_type": "markdown",
   "id": "60b7dc3d-2ea2-46ee-a7a5-b1acc7fb7553",
   "metadata": {},
   "source": [
    "Остались нюансы в виде согласования. Можно, конечно, контролировать зависимые прилагательные (желающие могут рискнуть написать такой код), но пока просто добавим контроль, чтобы существительное было того же рода:"
   ]
  },
  {
   "cell_type": "code",
   "execution_count": null,
   "id": "619b00e4-35c5-425e-b2cd-c987748d0ea1",
   "metadata": {},
   "outputs": [],
   "source": [
    "with open('EugeneOnegin.txt', encoding='utf-8') as txt:\n",
    "    text = txt.read()\n",
    "    text = re.sub(' +', ' ', text) \n",
    "    text = text[63:445]\n",
    "    lines = text.split('\\n')\n",
    "    lines_prep = []\n",
    "    for line in lines:\n",
    "        new_line = []\n",
    "        for token in word_tokenize(line):\n",
    "            parse_tok = morph.parse(token)[0]\n",
    "            if parse_tok.tag.POS == 'NOUN':\n",
    "                case = parse_tok.tag.case\n",
    "                number = parse_tok.tag.number\n",
    "                gender = parse_tok.tag.gender\n",
    "                similar_words = model.most_similar('_'.join([parse_tok.normal_form, 'NOUN']), topn=100)\n",
    "                for sim_word in similar_words:\n",
    "                    if sim_word[0][-4:] == 'NOUN' and morph.parse(sim_word[0][:-5])[0].tag.gender == gender:\n",
    "                        new_noun = re.sub('_[A-Z]+', '', sim_word[0])\n",
    "                        new_line.append(morph.parse(new_noun)[0].inflect({case, number}).word)\n",
    "                        break\n",
    "                    else:\n",
    "                        continue\n",
    "\n",
    "            else:\n",
    "                new_line.append(token)\n",
    "        lines_prep.append(' '.join(new_line))\n",
    "    final_strophe = '\\n'.join(lines_prep)\n",
    "    final_strophe = re.sub(r'\\s+([.,!?;:])', r'\\1', final_strophe) \n",
    "    print(final_strophe)"
   ]
  },
  {
   "cell_type": "markdown",
   "id": "b6b50e0d-8fc4-4784-afc2-bc3983208b7c",
   "metadata": {},
   "source": [
    "Посмотрим на сон Татьяны:"
   ]
  },
  {
   "cell_type": "code",
   "execution_count": null,
   "id": "2a8910f3-da1d-4dc1-883e-12e8d7dc69f7",
   "metadata": {},
   "outputs": [],
   "source": [
    "dream = '''И страшно ей; и торопливо\n",
    "Татьяна силится бежать:\n",
    "Нельзя никак; нетерпеливо\n",
    "Метаясь, хочет закричать:\n",
    "Не может; дверь толкнул Евгений:\n",
    "И взорам адских привидений\n",
    "Явилась дева; ярый смех\n",
    "Раздался дико; очи всех,\n",
    "Копыты, хоботы кривые,\n",
    "Хвосты хохлатые, клыки,\n",
    "Усы, кровавы языки,\n",
    "Рога и пальцы костяные,\n",
    "Всё указует на нее,\n",
    "И все кричат: мое! мое!\n",
    "'''\n",
    "\n",
    "\n",
    "text = dream\n",
    "text = re.sub(' +', ' ', text) \n",
    "text = text[63:445]\n",
    "lines = text.split('\\n')\n",
    "lines_prep = []\n",
    "for line in lines:\n",
    "    new_line = []\n",
    "    for token in word_tokenize(line):\n",
    "        parse_tok = morph.parse(token)[0]\n",
    "        if parse_tok.tag.POS == 'NOUN':\n",
    "            case = parse_tok.tag.case\n",
    "            number = parse_tok.tag.number\n",
    "            gender = parse_tok.tag.gender\n",
    "            similar_words = model.most_similar('_'.join([parse_tok.normal_form, 'NOUN']), topn=100)\n",
    "            for sim_word in similar_words:\n",
    "                if sim_word[0][-4:] == 'NOUN' and morph.parse(sim_word[0][:-5])[0].tag.gender == gender:\n",
    "                    new_noun = re.sub('_[A-Z]+', '', sim_word[0])\n",
    "                    new_line.append(morph.parse(new_noun)[0].inflect({case, number}).word)\n",
    "                    break\n",
    "                else:\n",
    "                    continue\n",
    "\n",
    "        else:\n",
    "            new_line.append(token)\n",
    "    lines_prep.append(' '.join(new_line))\n",
    "final_strophe = '\\n'.join(lines_prep)\n",
    "final_strophe = re.sub(r'\\s+([.,!?;:])', r'\\1', final_strophe) \n",
    "print(final_strophe)"
   ]
  },
  {
   "cell_type": "markdown",
   "id": "1296163f-9b9a-42f1-bb37-87b21c0ce769",
   "metadata": {},
   "source": [
    "Мы столкнулись с ошибкой, так что добавим исключения:"
   ]
  },
  {
   "cell_type": "code",
   "execution_count": null,
   "id": "92f61df3-3269-41ba-9433-192ae5127f9f",
   "metadata": {},
   "outputs": [],
   "source": [
    "dream = '''И страшно ей; и торопливо\n",
    "Татьяна силится бежать:\n",
    "Нельзя никак; нетерпеливо\n",
    "Метаясь, хочет закричать:\n",
    "Не может; дверь толкнул Евгений:\n",
    "И взорам адских привидений\n",
    "Явилась дева; ярый смех\n",
    "Раздался дико; очи всех,\n",
    "Копыты, хоботы кривые,\n",
    "Хвосты хохлатые, клыки,\n",
    "Усы, кровавы языки,\n",
    "Рога и пальцы костяные,\n",
    "Всё указует на нее,\n",
    "И все кричат: мое! мое!\n",
    "'''\n",
    "\n",
    "text = dream\n",
    "lines = text.split('\\n')\n",
    "lines_prep = []\n",
    "for line in lines:\n",
    "    new_line = []\n",
    "    for token in word_tokenize(line):\n",
    "        parse_tok = morph.parse(token)[0]\n",
    "        if parse_tok.tag.POS == 'NOUN':\n",
    "            case = parse_tok.tag.case\n",
    "            number = parse_tok.tag.number\n",
    "            gender = parse_tok.tag.gender\n",
    "            try:\n",
    "                similar_words = model.most_similar('_'.join([parse_tok.normal_form, 'NOUN']), topn=100)\n",
    "                for sim_word in similar_words:\n",
    "                    if sim_word[0][-4:] == 'NOUN' and morph.parse(sim_word[0][:-5])[0].tag.gender == gender:\n",
    "                        new_noun = re.sub('_[A-Z]+', '', sim_word[0])\n",
    "                        new_line.append(morph.parse(new_noun)[0].inflect({case, number}).word)\n",
    "                        break\n",
    "                    else:\n",
    "                        continue\n",
    "            except KeyError:\n",
    "                    new_noun = parse_tok.inflect({case, number}).word\n",
    "                    new_line.append(new_noun)\n",
    "\n",
    "        else:\n",
    "            new_line.append(token)\n",
    "    lines_prep.append(' '.join(new_line))\n",
    "final_strophe = '\\n'.join(lines_prep)\n",
    "final_strophe = re.sub(r'\\s+([.,!?;:])', r'\\1', final_strophe) \n",
    "print(final_strophe)"
   ]
  },
  {
   "cell_type": "markdown",
   "id": "607410ec-1533-44c8-a2f3-e09ce2ca77eb",
   "metadata": {},
   "source": [
    "**Задание 1**. Возьмите любые пять  русских пословиц и замените в них существительные. Что получится?  \n",
    "Можно взять здесь: https://ru.wikiquote.org/wiki/%D0%A0%D1%83%D1%81%D1%81%D0%BA%D0%B8%D0%B5_%D0%BF%D0%BE%D1%81%D0%BB%D0%BE%D0%B2%D0%B8%D1%86%D1%8B "
   ]
  },
  {
   "cell_type": "code",
   "execution_count": null,
   "id": "a7e9da18-2561-4548-b994-9139c889f074",
   "metadata": {},
   "outputs": [],
   "source": [
    "#ваш код здесь"
   ]
  },
  {
   "cell_type": "markdown",
   "id": "5d0763f0-c284-4fdc-a46c-62c0d632f1f2",
   "metadata": {},
   "source": [
    "Теперь поработаем с прилагательными: с ними работать приятно, т.к. набор тэгов совпадает с существительными."
   ]
  },
  {
   "cell_type": "code",
   "execution_count": null,
   "id": "5c52a94d-81f4-4cc2-9060-097f34b948d7",
   "metadata": {
    "scrolled": true
   },
   "outputs": [],
   "source": [
    "with open('EugeneOnegin.txt', encoding='utf-8') as txt:\n",
    "    text = txt.read()\n",
    "    text = re.sub(' +', ' ', text) \n",
    "    text = text[63:445]\n",
    "    lines = text.split('\\n')\n",
    "lines_prep = []\n",
    "for line in lines:\n",
    "    new_line = []\n",
    "    for token in word_tokenize(line):\n",
    "        parse_tok = morph.parse(token)[0]\n",
    "        if parse_tok.tag.POS in ['ADJF', 'ADJS']:\n",
    "            case = parse_tok.tag.case or 'nomn'\n",
    "            number = parse_tok.tag.number or random.choice(['sing', 'plur'])\n",
    "            gender = parse_tok.tag.gender or random.choice(['neut', 'femn', 'masc'])\n",
    "            tok_for_model = '_'.join([parse_tok.normal_form, 'ADJ'])\n",
    "            if tok_for_model in model:\n",
    "                similar_words = model.most_similar(tok_for_model, topn=10)\n",
    "                for sim_word in similar_words:\n",
    "                    if sim_word[0][-3:] == 'ADJ':\n",
    "                        new_adj = re.sub('_[A-Z]+', '', sim_word[0])\n",
    "                        infl = morph.parse(new_adj)[0].inflect({case, number, gender})\n",
    "                        if infl:\n",
    "                            new_line.append(infl.word)\n",
    "                        else:\n",
    "                            new_line.append(parse_tok.word)\n",
    "                        break \n",
    "\n",
    "\n",
    "                else:\n",
    "                    infl = parse_tok.inflect({case, number, gender})\n",
    "                    new_line.append(infl.word if infl else parse_tok.word)\n",
    "\n",
    "        else:\n",
    "            new_line.append(parse_tok.word)\n",
    "\n",
    "\n",
    "    \n",
    "    lines_prep.append(' '.join(new_line))\n",
    "\n",
    "\n",
    "   \n",
    "final_strophe = '\\n'.join(lines_prep)\n",
    "final_strophe = re.sub(r'\\s+([.,!?;:])', r'\\1', final_strophe) \n",
    "print(final_strophe)"
   ]
  },
  {
   "cell_type": "code",
   "execution_count": null,
   "id": "23181499-0015-4584-a761-5b3a98d2e161",
   "metadata": {},
   "outputs": [],
   "source": [
    "text = '''И страшно ей; и торопливо\n",
    "Татьяна силится бежать:\n",
    "Нельзя никак; нетерпеливо\n",
    "Метаясь, хочет закричать:\n",
    "Не может; дверь толкнул Евгений:\n",
    "И взорам адских привидений\n",
    "Явилась дева; ярый смех\n",
    "Раздался дико; очи всех,\n",
    "Копыты, хоботы кривые,\n",
    "Хвосты хохлатые, клыки,\n",
    "Усы, кровавы языки,\n",
    "Рога и пальцы костяные,\n",
    "Всё указует на нее,\n",
    "И все кричат: мое! мое!\n",
    "'''\n",
    "lines = text.split('\\n')\n",
    "lines_prep = []\n",
    "for line in lines:\n",
    "    new_line = []\n",
    "    for token in word_tokenize(line):\n",
    "        parse_tok = morph.parse(token)[0]\n",
    "        if parse_tok.tag.POS in ['ADJF', 'ADJS']:\n",
    "            case = parse_tok.tag.case or 'nomn'\n",
    "            number = parse_tok.tag.number or random.choice(['sing', 'plur'])\n",
    "            gender = parse_tok.tag.gender or random.choice(['neut', 'femn', 'masc'])\n",
    "            tok_for_model = '_'.join([parse_tok.normal_form, 'ADJ'])\n",
    "            if tok_for_model in model:\n",
    "                similar_words = model.most_similar(tok_for_model, topn=10)\n",
    "                for sim_word in similar_words:\n",
    "                    if sim_word[0][-3:] == 'ADJ':\n",
    "                        new_adj = re.sub('_[A-Z]+', '', sim_word[0])\n",
    "                        infl = morph.parse(new_adj)[0].inflect({case, number, gender})\n",
    "                        if infl:\n",
    "                            new_line.append(infl.word)\n",
    "                        else:\n",
    "                            new_line.append(parse_tok.word)\n",
    "                        break \n",
    "\n",
    "                else:\n",
    "                    infl = parse_tok.inflect({case, number, gender})\n",
    "                    new_line.append(infl.word if infl else parse_tok.word)\n",
    "\n",
    "        else:\n",
    "            new_line.append(parse_tok.word)\n",
    "\n",
    "\n",
    "    \n",
    "    lines_prep.append(' '.join(new_line))\n",
    "\n",
    "\n",
    "   \n",
    "final_strophe = '\\n'.join(lines_prep)\n",
    "final_strophe = re.sub(r'\\s+([.,!?;:])', r'\\1', final_strophe) \n",
    "print(final_strophe)"
   ]
  },
  {
   "cell_type": "markdown",
   "id": "d1a7b5b4-4ba8-488a-a4d7-df2d41471cb2",
   "metadata": {},
   "source": [
    "Теперь наречия, что ещё легче:"
   ]
  },
  {
   "cell_type": "code",
   "execution_count": null,
   "id": "d9eb9d20-d96f-423b-9a39-66d9d4148ac2",
   "metadata": {},
   "outputs": [],
   "source": [
    "dream = '''И страшно ей; и торопливо\n",
    "Татьяна силится бежать:\n",
    "Нельзя никак; нетерпеливо\n",
    "Метаясь, хочет закричать:\n",
    "Не может; дверь толкнул Евгений:\n",
    "И взорам адских привидений\n",
    "Явилась дева; ярый смех\n",
    "Раздался дико; очи всех,\n",
    "Копыты, хоботы кривые,\n",
    "Хвосты хохлатые, клыки,\n",
    "Усы, кровавы языки,\n",
    "Рога и пальцы костяные,\n",
    "Всё указует на нее,\n",
    "И все кричат: мое! мое!\n",
    "'''\n",
    "\n",
    "text = dream\n",
    "text = re.sub(' +', ' ', text) \n",
    "lines = text.split('\\n')\n",
    "lines_prep = []\n",
    "for line in lines:\n",
    "    new_line = []\n",
    "    for token in word_tokenize(line):\n",
    "        parse_tok = morph.parse(token)[0]\n",
    "        if parse_tok.tag.POS == 'ADVB':\n",
    "            try:\n",
    "                similar_words = model.most_similar('_'.join([parse_tok.normal_form, 'ADV']), topn=5)\n",
    "                \n",
    "                for sim_word in similar_words:\n",
    "\n",
    "                    if sim_word[0][-3:] == 'ADV':\n",
    "                        new_adv = re.sub('_[A-Z]+', '', sim_word[0])\n",
    "                        new_line.append(new_adv)\n",
    "                        break\n",
    "            except KeyError:\n",
    "                    new_adv = parse_tok.word\n",
    "                    new_line.append(new_adv)\n",
    "        else:\n",
    "            new_line.append(token)    \n",
    "    lines_prep.append(' '.join(new_line))\n",
    "    \n",
    "final_strophe = '\\n'.join(lines_prep)\n",
    "final_strophe = re.sub(r'\\s+([.,!?;:])', r'\\1', final_strophe) \n",
    "print(final_strophe)"
   ]
  },
  {
   "cell_type": "markdown",
   "id": "12bf45e5-87f8-4dd5-8c1b-3ab2258ce5e3",
   "metadata": {},
   "source": [
    "И закончим глаголами:"
   ]
  },
  {
   "cell_type": "code",
   "execution_count": null,
   "id": "f290dec9-c4c4-4998-ba33-9ab1c2c6a44d",
   "metadata": {},
   "outputs": [],
   "source": [
    "text = dream\n",
    "text = re.sub(' +', ' ', text) \n",
    "lines = text.split('\\n')\n",
    "lines_prep = []\n",
    "for line in lines:\n",
    "    new_line = []\n",
    "    for token in word_tokenize(line):\n",
    "        parse_tok = morph.parse(token)[0]\n",
    "        tense = parse_tok.tag.tense\n",
    "        person = parse_tok.tag.person\n",
    "        if parse_tok.tag.POS in ['VERB', 'INFN']:\n",
    "            try:\n",
    "                sim_verbs = model.most_similar('_'.join([parse_tok.normal_form, 'VERB']), topn=5)\n",
    "                for sim_verb in sim_verbs:\n",
    "                    if sim_verb[0][-4:] == 'VERB':\n",
    "                        new_verb = re.sub('_[A-Z]+', '', sim_verb[0])\n",
    "                        inflect_tags = {'INFN'} if parse_tok.tag.POS == 'INFN' else set()\n",
    "                        if tense and parse_tok.tag.POS != 'INFN':\n",
    "                            inflect_tags.add(tense)\n",
    "                        if person and parse_tok.tag.POS != 'INFN':\n",
    "                            inflect_tags.add(person)\n",
    "                        inflected = morph.parse(new_verb)[0].inflect(inflect_tags)\n",
    "                        verb_infl = inflected.word if inflected else new_verb\n",
    "                        new_line.append(verb_infl)\n",
    "                        break\n",
    "                else:\n",
    "                    new_line.append(parse_tok.word)\n",
    "            except KeyError:\n",
    "                new_line.append(parse_tok.word)\n",
    "        else:\n",
    "            new_line.append(parse_tok.word)\n",
    "    lines_prep.append(' '.join(new_line))\n",
    "final_strophe = '\\n'.join(lines_prep) \n",
    "final_strophe = re.sub(r'\\s+([.,!?;:])', r'\\1', final_strophe) \n",
    "print(final_strophe)"
   ]
  },
  {
   "cell_type": "markdown",
   "id": "6f1bf22c-1d79-4462-aa84-fce748b1ac7c",
   "metadata": {},
   "source": [
    "Осталось только написать мегафункцию, которая \"испортит\" все части речи. Сделаем же это.  \n",
    "**Задание 2**. Попробуйте объединить весь код так, чтобы получилась единая функция для всех частей речи."
   ]
  },
  {
   "cell_type": "code",
   "execution_count": null,
   "id": "39eb0f9a-3695-4694-bda7-0bbed124c906",
   "metadata": {},
   "outputs": [],
   "source": [
    "def strophe_changer(text):\n",
    "    return final_strophe"
   ]
  },
  {
   "cell_type": "code",
   "execution_count": null,
   "id": "162b63cd-9fb4-44c7-a847-41e6ab452e6d",
   "metadata": {},
   "outputs": [],
   "source": [
    "text = '''И страшно ей; и торопливо\n",
    "Татьяна силится бежать:\n",
    "Нельзя никак; нетерпеливо\n",
    "Метаясь, хочет закричать:\n",
    "Не может; дверь толкнул Евгений:\n",
    "И взорам адских привидений\n",
    "Явилась дева; ярый смех\n",
    "Раздался дико; очи всех,\n",
    "Копыты, хоботы кривые,\n",
    "Хвосты хохлатые, клыки,\n",
    "Усы, кровавы языки,\n",
    "Рога и пальцы костяные,\n",
    "Всё указует на нее,\n",
    "И все кричат: мое! мое!\n",
    "'''\n",
    "print(strophe_changer(text))"
   ]
  },
  {
   "cell_type": "markdown",
   "id": "79d91b7f-63e3-4797-860f-284c4c227132",
   "metadata": {},
   "source": [
    "**Задание 3.** Перепешите на основании всего того, что есть выше, \"Анну Каренину\" так, как будто её написал Ф. М. Достоевский (или любой другой автор на ваше усмотрение). Обучите модель на основании предложенного корпуса Достоевского."
   ]
  },
  {
   "cell_type": "code",
   "execution_count": null,
   "id": "97f9d2d6-465c-4200-a816-fd368f7e87e7",
   "metadata": {},
   "outputs": [],
   "source": []
  }
 ],
 "metadata": {
  "kernelspec": {
   "display_name": "Python 3 (ipykernel)",
   "language": "python",
   "name": "python3"
  },
  "language_info": {
   "codemirror_mode": {
    "name": "ipython",
    "version": 3
   },
   "file_extension": ".py",
   "mimetype": "text/x-python",
   "name": "python",
   "nbconvert_exporter": "python",
   "pygments_lexer": "ipython3",
   "version": "3.12.4"
  }
 },
 "nbformat": 4,
 "nbformat_minor": 5
}
