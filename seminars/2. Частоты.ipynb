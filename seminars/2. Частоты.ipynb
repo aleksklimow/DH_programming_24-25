{
 "cells": [
  {
   "cell_type": "markdown",
   "id": "28ddb5b9-c6b1-44c5-b63c-649477df06ac",
   "metadata": {
    "id": "28ddb5b9-c6b1-44c5-b63c-649477df06ac"
   },
   "source": [
    "**Частоты и их визуализации**"
   ]
  },
  {
   "cell_type": "markdown",
   "id": "b1f76802-3e51-4a68-a2d8-3fd25515540b",
   "metadata": {
    "id": "b1f76802-3e51-4a68-a2d8-3fd25515540b"
   },
   "source": [
    "Меры, связанные с частотой, — это основа, позволяющая исследовать коллекции текстов с математической, компьютерной точки зрения.  \n",
    "\n",
    "Основные виды частот:  \n",
    "1) **абсолютная частота** — суммарное количество раз, сколько токен (слово) было употреблено в изучаемом тексте, корпусе, изучаемом отрывке текста и т.д. ( в зависимости от объекта изучения).  \n",
    "2) **относительная частота** — результат определенного нормализации абсолютной частоты. Есть разные методы, но наиболее популярные — подсчёт процента (т.е. доли конкретного токена от всех токенов в тексте) и instances per million (ipm; количество повторений на миллион токенов).\n",
    "\n",
    "Самое простое употребление частоты в связи с текстом, который может представить любой человек, — это частотные списки. Например, один из самых знаменитых частотников для русского языка — \"Новый частотный словарь русской лексики\" О. Н. Ляшевской и С. А. Шарова основан на репрезентативной выборке и доступен онлайн: http://dict.ruslang.ru/freq.php"
   ]
  },
  {
   "cell_type": "markdown",
   "id": "83911171-48ed-4ebb-b9d2-7dabafbadeb1",
   "metadata": {
    "id": "83911171-48ed-4ebb-b9d2-7dabafbadeb1"
   },
   "source": [
    "Частотный словарь конкретного текста или конкретного корпуса — в каком-то смысле это простая модель этого текста (и шире — модель языка), представляющая этот текст или корпус в общем виде, позволяющаяся реконструировать разные особенности текста. Позже мы поговорим о более сложных моделях (мешок слов, tf-idf), но сейчас сосредеточимся на простых **частотных списках**. Частотные списки — это списки уникальных слов с указанием абсолютной частоты, зачастую отсортированные по этой частоте."
   ]
  },
  {
   "cell_type": "markdown",
   "id": "db261534-40a2-4399-89ce-ca19269ed089",
   "metadata": {
    "id": "db261534-40a2-4399-89ce-ca19269ed089"
   },
   "source": [
    "Частотные списки можно собирать вручную:"
   ]
  },
  {
   "cell_type": "code",
   "execution_count": null,
   "id": "a7259b27-9158-4a2f-bc2d-ce975921cf64",
   "metadata": {
    "colab": {
     "base_uri": "https://localhost:8080/"
    },
    "id": "a7259b27-9158-4a2f-bc2d-ce975921cf64",
    "outputId": "ab5ac1ab-124d-4dc2-f7af-d7ff0eca3948"
   },
   "outputs": [],
   "source": [
    "text = 'Мой дядя самых честных правил, Когда не в шутку занемог, Он уважать себя заставил И лучше выдумать не мог. Его пример другим наука; Но, боже мой, какая скука С больным сидеть и день и ночь, Не отходя ни шагу прочь! Какое низкое коварство Полуживого забавлять, Ему подушки поправлять, Печально подносить лекарство, Вздыхать и думать про себя: Когда же чёрт возьмёт тебя?'\n",
    "print(text) #1 строфа \"Евгения Онегина\""
   ]
  },
  {
   "cell_type": "markdown",
   "id": "JBAQT_YR1ZAz",
   "metadata": {
    "id": "JBAQT_YR1ZAz"
   },
   "source": [
    "Общее число слов получить просто, например, разбив строку с помощью метода split() и подсчитав длину полученного списка:"
   ]
  },
  {
   "cell_type": "code",
   "execution_count": null,
   "id": "4yKaCDyF1Yf5",
   "metadata": {
    "colab": {
     "base_uri": "https://localhost:8080/"
    },
    "id": "4yKaCDyF1Yf5",
    "outputId": "58a5abf7-0a23-43dd-a927-4ca4d3f62864"
   },
   "outputs": [],
   "source": [
    "print(len(text.split()))"
   ]
  },
  {
   "cell_type": "markdown",
   "id": "jlf4JAQ-1oUK",
   "metadata": {
    "id": "jlf4JAQ-1oUK"
   },
   "source": [
    "Либо с помощью той же функции len(), но примененной к результату токенизации."
   ]
  },
  {
   "cell_type": "code",
   "execution_count": null,
   "id": "bbfdfb1a-98ce-4297-91c1-f4851706992c",
   "metadata": {
    "id": "bbfdfb1a-98ce-4297-91c1-f4851706992c"
   },
   "outputs": [],
   "source": [
    "import nltk\n",
    "from nltk import word_tokenize"
   ]
  },
  {
   "cell_type": "markdown",
   "id": "8f854547-abd0-486e-b5da-2bdb24625513",
   "metadata": {
    "id": "8f854547-abd0-486e-b5da-2bdb24625513"
   },
   "source": [
    "Посмотрим на словник (т.е. набор уникальных токенов) строфы:"
   ]
  },
  {
   "cell_type": "code",
   "execution_count": null,
   "id": "nOGapKTCnu2C",
   "metadata": {
    "colab": {
     "base_uri": "https://localhost:8080/"
    },
    "id": "nOGapKTCnu2C",
    "outputId": "7148b6a8-3217-4826-c87f-f9227b8ca8b4"
   },
   "outputs": [],
   "source": [
    "nltk.download('punkt_tab')"
   ]
  },
  {
   "cell_type": "code",
   "execution_count": null,
   "id": "d831383d-752b-4a1c-a4b3-b4b872a05bac",
   "metadata": {
    "colab": {
     "base_uri": "https://localhost:8080/"
    },
    "id": "d831383d-752b-4a1c-a4b3-b4b872a05bac",
    "outputId": "6079d9d3-cc71-4591-b610-bb4ce5ab4c5b"
   },
   "outputs": [],
   "source": [
    "words = nltk.tokenize.word_tokenize(text.lower()) #приведем на всякий случай к нижнему регистру, чтобы слова с заглавной буквы не посчитались отдельно\n",
    "print(len(words)) #количество токенов вообще\n",
    "print(set(words)) #распечатка словника\n",
    "print(len(set(words))) #количество уникальных токенов (включая пунктуацию: как вы помните, они по определению тоже токены)"
   ]
  },
  {
   "cell_type": "markdown",
   "id": "1c55660c-b35d-4b92-8365-e7d3ab98148d",
   "metadata": {
    "id": "1c55660c-b35d-4b92-8365-e7d3ab98148d"
   },
   "source": [
    "Посчитаем количество повторов каждого из токенов, сохранив их в словарь (самый удобный способ хранить частотники):"
   ]
  },
  {
   "cell_type": "code",
   "execution_count": null,
   "id": "f75787da-2626-4a5a-a79f-5337246159a8",
   "metadata": {
    "colab": {
     "base_uri": "https://localhost:8080/"
    },
    "id": "f75787da-2626-4a5a-a79f-5337246159a8",
    "outputId": "a0589f0e-2827-4e47-96c8-66b9733f7dd7"
   },
   "outputs": [],
   "source": [
    "word_frequency = {} #пустой словарь, куда мы запишем каждое слово (ключ) и количество этих слов (значение)\n",
    "for token in words: #инициируем цикл, который пройдется по каждому слову в списке токенов текста\n",
    "    if token in word_frequency: #если слово уже есть в словаре word_frequency, то оно увеличит его значение на 1\n",
    "        word_frequency[token] += 1\n",
    "    else: #если же оно встречается в первый раз, то цикл назначит ему значение 1 (что логично, слово встретилось в первый раз)\n",
    "        word_frequency[token] = 1\n",
    "\n",
    "print(word_frequency)"
   ]
  },
  {
   "cell_type": "markdown",
   "id": "SP4MoNpjlOKX",
   "metadata": {
    "id": "SP4MoNpjlOKX"
   },
   "source": [
    "**Задание 1.** Напишите код, который посчитает частоты по абзацу текста на ваш выбор."
   ]
  },
  {
   "cell_type": "code",
   "execution_count": null,
   "id": "ds8prlvilXwf",
   "metadata": {
    "id": "ds8prlvilXwf"
   },
   "outputs": [],
   "source": [
    "#ваш код здесь\n",
    "text = ''"
   ]
  },
  {
   "cell_type": "markdown",
   "id": "9b961873-49c8-4aa5-ac27-6d6f1806f301",
   "metadata": {
    "id": "9b961873-49c8-4aa5-ac27-6d6f1806f301"
   },
   "source": [
    "Что делать, если текстов у нас несколько? Всё не так сложно, нам просто понадобится вложенный цикл (если вы не обсудили на курсе по питону или не до конца поняли, то здесь есть качественное объяснение — https://education.yandex.ru/handbook/python/article/vlozhennye-cikly):"
   ]
  },
  {
   "cell_type": "code",
   "execution_count": null,
   "id": "939eba6f-40b6-4c9b-887c-172984b1d358",
   "metadata": {
    "colab": {
     "base_uri": "https://localhost:8080/"
    },
    "id": "939eba6f-40b6-4c9b-887c-172984b1d358",
    "outputId": "8da5363b-eed0-4d3e-e894-2866618d4f40"
   },
   "outputs": [],
   "source": [
    "onegin_one_two = ['Мой дядя самых честных правил, Когда не в шутку занемог, Он уважать себя заставил И лучше выдумать не мог. Его пример другим наука; Но, боже мой, какая скука С больным сидеть и день и ночь, Не отходя ни шагу прочь! Какое низкое коварство Полуживого забавлять, Ему подушки поправлять, Печально подносить лекарство, Вздыхать и думать про себя: Когда же чёрт возьмёт тебя?', 'Увы, на разные забавы Я много жизни погубил! Но если б не страдали нравы, Я балы б до сих пор любил. Люблю я бешеную младость, И тесноту, и блеск, и радость, И дам обдуманный наряд; Люблю их ножки; только вряд Найдете вы в России целой Три пары стройных женских ног. Ах! долго я забыть не мог Две ножки... Грустный, охладелый, Я всё их помню, и во сне Они тревожат сердце мне.']\n",
    "print(len(onegin_one_two))\n",
    "print(onegin_one_two)"
   ]
  },
  {
   "cell_type": "code",
   "execution_count": null,
   "id": "552d80e0-b6e0-4491-830b-61648f819cef",
   "metadata": {
    "colab": {
     "base_uri": "https://localhost:8080/"
    },
    "id": "552d80e0-b6e0-4491-830b-61648f819cef",
    "outputId": "a3c88e61-a031-4d82-d31d-4f0da50ca599"
   },
   "outputs": [],
   "source": [
    "word_frequency_onegin = {} #создадим словарь, в котором сохраним все частоты\n",
    "for strophe in onegin_one_two: #добавим цикл, который пройдет по каждой строфе\n",
    "    for token in word_tokenize(strophe.lower()):\n",
    "        if token in word_frequency_onegin:\n",
    "            word_frequency_onegin[token] += 1\n",
    "        else:\n",
    "            word_frequency_onegin[token] = 1\n",
    "\n",
    "print(word_frequency_onegin)"
   ]
  },
  {
   "cell_type": "markdown",
   "id": "bd69cf4f-a17b-414e-995b-e16f728df2f9",
   "metadata": {
    "id": "bd69cf4f-a17b-414e-995b-e16f728df2f9"
   },
   "source": [
    "Проверка частоты конкретного слова:"
   ]
  },
  {
   "cell_type": "code",
   "execution_count": null,
   "id": "989d3606-4c38-44e1-978c-0bb6ca4c394f",
   "metadata": {
    "colab": {
     "base_uri": "https://localhost:8080/"
    },
    "id": "989d3606-4c38-44e1-978c-0bb6ca4c394f",
    "outputId": "c1ba07c0-517b-4ae8-df23-f910c6d66e7d"
   },
   "outputs": [],
   "source": [
    "print(word_frequency_onegin['мой'])"
   ]
  },
  {
   "cell_type": "markdown",
   "id": "8HEQnuVUl3B0",
   "metadata": {
    "id": "8HEQnuVUl3B0"
   },
   "source": [
    "Как посчитать **относительную частоту**? Нужно поделить частоту конкретного токена на общее количество слов в тексте."
   ]
  },
  {
   "cell_type": "code",
   "execution_count": null,
   "id": "V5346tftmAS_",
   "metadata": {
    "colab": {
     "base_uri": "https://localhost:8080/"
    },
    "id": "V5346tftmAS_",
    "outputId": "b9dcdd01-b858-4a21-a9f7-a21cfc644e38"
   },
   "outputs": [],
   "source": [
    "def word_absolute_freq(text, word): #создадим функцию, которая будет считать абсолютную частоту в тексте\n",
    "  word_frequency_text = {}\n",
    "  words = word_tokenize(text.lower())\n",
    "  for token in words: #инициируем цикл, который пройдется по каждому слову в списке токенов текста\n",
    "    if token in word_frequency_text: #если слово уже есть в словаре word_frequency, то оно увеличит его значение на 1\n",
    "        word_frequency_text[token] += 1\n",
    "    else: #если же оно встречается в первый раз, то цикл назначит ему значение 1 (что логично, слово встретилось в первый раз)\n",
    "        word_frequency_text[token] = 1\n",
    "  return word_frequency_text[str(word)]\n",
    "\n",
    "print(word_absolute_freq('I love cats and dogs, but not all of the dogs', 'dogs'))"
   ]
  },
  {
   "cell_type": "code",
   "execution_count": null,
   "id": "f5dbd1e7-6be1-4991-82eb-2c6446aad1ab",
   "metadata": {},
   "outputs": [],
   "source": [
    "print(word_absolute_freq(input(), input()))"
   ]
  },
  {
   "cell_type": "markdown",
   "id": "MswPdhoO09f7",
   "metadata": {
    "id": "MswPdhoO09f7"
   },
   "source": [
    "Получив частоту токена, дело за малым: поделить его на общее число слов в тексте."
   ]
  },
  {
   "cell_type": "code",
   "execution_count": null,
   "id": "kmk0ZpkQ02VH",
   "metadata": {
    "colab": {
     "base_uri": "https://localhost:8080/"
    },
    "id": "kmk0ZpkQ02VH",
    "outputId": "0b3e3373-185d-4429-83fd-1805c3192d50"
   },
   "outputs": [],
   "source": [
    "text = 'Мой дядя самых честных правил, Когда не в шутку занемог, Он уважать себя заставил И лучше выдумать не мог. Его пример другим наука; Но, боже мой, какая скука С больным сидеть и день и ночь, Не отходя ни шагу прочь! Какое низкое коварство Полуживого забавлять, Ему подушки поправлять, Печально подносить лекарство, Вздыхать и думать про себя: Когда же чёрт возьмёт тебя?'\n",
    "print(word_absolute_freq(text, 'дядя') / len(text.split()) * 1000000)  \n"
   ]
  },
  {
   "cell_type": "markdown",
   "id": "DBEWuJ404v_i",
   "metadata": {
    "id": "DBEWuJ404v_i"
   },
   "source": [
    "**Задание 2.** Модернизируйте функцию word_relative_freq так, чтобы она возвращала относительную частоту слова."
   ]
  },
  {
   "cell_type": "code",
   "execution_count": null,
   "id": "zVpU5LOA48C3",
   "metadata": {
    "id": "zVpU5LOA48C3"
   },
   "outputs": [],
   "source": []
  },
  {
   "cell_type": "markdown",
   "id": "vUYaW6R4oIK0",
   "metadata": {
    "id": "vUYaW6R4oIK0"
   },
   "source": [
    "В библиотеке **nltk** также есть встроенные инструменты для работы с частотными списками. Самый популярный и распространённый - это функция **FreqDist()**, создающая частотный словарь, подобный тому, что мы с вами делали выше."
   ]
  },
  {
   "cell_type": "code",
   "execution_count": null,
   "id": "2466dded-902c-4bab-adeb-03369e82c533",
   "metadata": {
    "colab": {
     "base_uri": "https://localhost:8080/"
    },
    "id": "2466dded-902c-4bab-adeb-03369e82c533",
    "outputId": "4814376a-36f1-4c50-b6e5-6fd4ed9472b8"
   },
   "outputs": [],
   "source": [
    "text = 'Мой дядя самых честных правил, Когда не в шутку занемог, Он уважать себя заставил И лучше выдумать не мог. Его пример другим наука; Но, боже мой, какая скука С больным сидеть и день и ночь, Не отходя ни шагу прочь! Какое низкое коварство Полуживого забавлять, Ему подушки поправлять, Печально подносить лекарство, Вздыхать и думать про себя: Когда же чёрт возьмёт тебя?'\n",
    "print(text) #1 строфа \"Евгения Онегина\""
   ]
  },
  {
   "cell_type": "markdown",
   "id": "zmRRxNqhotYs",
   "metadata": {
    "id": "zmRRxNqhotYs"
   },
   "source": [
    "Для начала нужно так же, как и ранее, токенизировать текст, а затем применить к списку токенов функцию **FreqDist()**."
   ]
  },
  {
   "cell_type": "code",
   "execution_count": null,
   "id": "HmpbvdFtpW-n",
   "metadata": {
    "id": "HmpbvdFtpW-n"
   },
   "outputs": [],
   "source": [
    "from nltk.probability import FreqDist"
   ]
  },
  {
   "cell_type": "code",
   "execution_count": null,
   "id": "5b84d124-fec2-4121-a87a-e9a420995ecb",
   "metadata": {
    "colab": {
     "base_uri": "https://localhost:8080/"
    },
    "id": "5b84d124-fec2-4121-a87a-e9a420995ecb",
    "outputId": "90f8d42f-e70f-4876-f684-d3e5ffb24c0a"
   },
   "outputs": [],
   "source": [
    "text_tokens = word_tokenize(text.lower())\n",
    "word_frequencies = FreqDist(text_tokens)\n",
    "print(word_frequencies) #это особый объект (класс), в котором хранятся наши подсчеты"
   ]
  },
  {
   "cell_type": "markdown",
   "id": "A2ylD8zlqRar",
   "metadata": {
    "id": "A2ylD8zlqRar"
   },
   "source": [
    "К этому классу применимы разные приятные методы. Более полный список вы можете изучить здесь: https://tedboy.github.io/nlps/generated/generated/nltk.ConditionalFreqDist.html#methods.\n",
    "Рассмотрим некоторые из них."
   ]
  },
  {
   "cell_type": "markdown",
   "id": "cqZUy_Ywq9Kq",
   "metadata": {
    "id": "cqZUy_Ywq9Kq"
   },
   "source": [
    "Если вы хотите получить итерируемый список токенов и частот, то пригодится метод **items()**:"
   ]
  },
  {
   "cell_type": "code",
   "execution_count": null,
   "id": "gSqU67QAqwT0",
   "metadata": {
    "colab": {
     "base_uri": "https://localhost:8080/"
    },
    "id": "gSqU67QAqwT0",
    "outputId": "88c26bc9-58dc-44f5-e6bf-47764f2eea30"
   },
   "outputs": [],
   "source": [
    "print(word_frequencies.items())"
   ]
  },
  {
   "cell_type": "code",
   "execution_count": null,
   "id": "sypKgdwTrdQn",
   "metadata": {
    "colab": {
     "base_uri": "https://localhost:8080/"
    },
    "id": "sypKgdwTrdQn",
    "outputId": "55c6a2ce-3e71-4a3b-ec6c-2e9e294ebfc3"
   },
   "outputs": [],
   "source": [
    "for token, frequency in word_frequencies.items(): #так как это список с кортежами, мы можем итерироваться по обеим записям в кортеже\n",
    "  print(token, frequency)"
   ]
  },
  {
   "cell_type": "markdown",
   "id": "2v7NwWxwrtwW",
   "metadata": {
    "id": "2v7NwWxwrtwW"
   },
   "source": [
    "Например, этим можно воспользоваться, если мы хотим отсортировать слова с частотой больше 35."
   ]
  },
  {
   "cell_type": "code",
   "execution_count": null,
   "id": "dkdRPN9Irsi7",
   "metadata": {
    "colab": {
     "base_uri": "https://localhost:8080/"
    },
    "id": "dkdRPN9Irsi7",
    "outputId": "0bc9eb53-ddaa-43bc-8907-10c489b23f9c"
   },
   "outputs": [],
   "source": [
    "frequent_tokens = []\n",
    "for token, frequency in word_frequencies.items(): #так как это список с кортежами, мы можем итерироваться по обеим записям в кортеже\n",
    "  if frequency >= 2:\n",
    "    frequent_tokens.append((token, frequency))\n",
    "  #  print('Ура!')\n",
    "#else:\n",
    "   # print('Увы!')\n",
    "\n",
    "print(frequent_tokens)"
   ]
  },
  {
   "cell_type": "markdown",
   "id": "XpZN9ghBrK-5",
   "metadata": {
    "id": "XpZN9ghBrK-5"
   },
   "source": [
    "Визуализация графика распределения:"
   ]
  },
  {
   "cell_type": "code",
   "execution_count": null,
   "id": "VAeoFJLvrTq-",
   "metadata": {
    "colab": {
     "base_uri": "https://localhost:8080/",
     "height": 564
    },
    "id": "VAeoFJLvrTq-",
    "outputId": "7f9c320a-1ad2-4555-96da-952e0fd7aada"
   },
   "outputs": [],
   "source": [
    "word_frequencies.plot(title='Распределение слов в 1 строфе')"
   ]
  },
  {
   "cell_type": "markdown",
   "id": "GEiiyGMBqaB7",
   "metadata": {
    "id": "GEiiyGMBqaB7"
   },
   "source": [
    "Вывод топовых частот:"
   ]
  },
  {
   "cell_type": "code",
   "execution_count": null,
   "id": "1edafa00-c353-436a-b1eb-2a13135d2a51",
   "metadata": {
    "colab": {
     "base_uri": "https://localhost:8080/"
    },
    "id": "1edafa00-c353-436a-b1eb-2a13135d2a51",
    "outputId": "7a974537-800c-4935-8bdd-2b8fbf8148a4"
   },
   "outputs": [],
   "source": [
    "word_frequencies.most_common(5)"
   ]
  },
  {
   "cell_type": "markdown",
   "id": "bWaBGI_77_9t",
   "metadata": {
    "id": "bWaBGI_77_9t"
   },
   "source": [
    "И получить **гапаксы** (т.е. слова, встретившиеся всего один раз)."
   ]
  },
  {
   "cell_type": "code",
   "execution_count": null,
   "id": "_jyna9oo8D6s",
   "metadata": {
    "colab": {
     "base_uri": "https://localhost:8080/"
    },
    "id": "_jyna9oo8D6s",
    "outputId": "a853dfb3-e6fa-405e-9e0a-fec073a08991"
   },
   "outputs": [],
   "source": [
    "word_frequencies.hapaxes()"
   ]
  },
  {
   "cell_type": "markdown",
   "id": "jgVhLaVFw8PD",
   "metadata": {
    "id": "jgVhLaVFw8PD"
   },
   "source": [
    "Немного исследуем реальные данные: это письма Ф. М. Достоевского."
   ]
  },
  {
   "cell_type": "code",
   "execution_count": null,
   "id": "WEGPJs0-w7vY",
   "metadata": {
    "colab": {
     "base_uri": "https://localhost:8080/"
    },
    "id": "WEGPJs0-w7vY",
    "outputId": "050c3c0d-ce15-4055-9bd2-6928977bb300"
   },
   "outputs": [],
   "source": [
    "path = 'C:\\\\Users\\\\Aleksandr\\\\DostoyevskiEpistola.txt'\n",
    "with open(path, encoding='utf-8') as txt:\n",
    "  text = txt.read()\n",
    "  tokens_count = len(text.split()) #используем наивную токенизацию для быстроты\n",
    "  unique_tokens = len(set(text.split())) #уникальные токены\n",
    "  print(tokens_count)\n",
    "  print(unique_tokens)"
   ]
  },
  {
   "cell_type": "markdown",
   "id": "7107a1a2-9ae7-4bb0-971d-3231dbd4edba",
   "metadata": {},
   "source": [
    "Существует крайне эффективная метрика, измеряющая лексическое разнообразие текста - **type-token ratio**.  \n",
    "Type-token ratio (TTR) — это метрика лексической разнообразия текста. Она показывает отношение количества уникальных слов (types) к общему количеству слов (tokens) в тексте. Его значение от 0 до 1, чем ближе значение к единице, тем более разнообразную лексику автор использует в тексте.  \n",
    "NB! Простой TTR уязвим к длине текстов; в более длинных текстах он более низкий всегда, поэтому сравнивать простым TTR лучше тексты одной длины. Для разноразмерных текстов есть более хитрые подходы, например, из библиотеки https://pypi.org/project/lexical-diversity/.  "
   ]
  },
  {
   "cell_type": "code",
   "execution_count": null,
   "id": "ce5d69aa-1202-4a0f-a66b-2adce4c98d0c",
   "metadata": {},
   "outputs": [],
   "source": [
    "ttr = unique_tokens / tokens_count\n",
    "print(ttr)"
   ]
  },
  {
   "cell_type": "markdown",
   "id": "aF2zhqpJBJmf",
   "metadata": {
    "id": "aF2zhqpJBJmf"
   },
   "source": [
    "**Вопрос.** Будет ли заметно отличаться TTR в текстах \"Идиота\" на русском и английском языке? Допустим, что длина текста одинаковая (в токенах)."
   ]
  },
  {
   "cell_type": "markdown",
   "id": "QZ6qp3yvBW7a",
   "metadata": {
    "id": "QZ6qp3yvBW7a"
   },
   "source": [
    "**Задание 3.** Напишите такой код, который будет принимать список из двух текстов (пока что коротких). Этот код должен раздельно посчитать TTR каждого из текстов и сохранить их в отдельный список."
   ]
  },
  {
   "cell_type": "code",
   "execution_count": null,
   "id": "UWh8xYEoBms-",
   "metadata": {
    "id": "UWh8xYEoBms-"
   },
   "outputs": [],
   "source": []
  },
  {
   "cell_type": "markdown",
   "id": "yBshHBMjxhOr",
   "metadata": {
    "id": "yBshHBMjxhOr"
   },
   "source": [
    "Итак, в нашем наборе данных всего 338400 токенов и из них 61376 уникальных. Отличное поле экспериментов!  \n",
    "\n",
    "Давайте сделаем небольшой процепроцессинг и более качественно подготовим данные."
   ]
  },
  {
   "cell_type": "code",
   "execution_count": null,
   "id": "WzfoTBDPyPXO",
   "metadata": {
    "colab": {
     "base_uri": "https://localhost:8080/"
    },
    "id": "WzfoTBDPyPXO",
    "outputId": "5a15abce-7357-4e05-c1d5-0bd7dabd8fa7"
   },
   "outputs": [],
   "source": [
    "nltk.download('stopwords')\n",
    "from nltk.corpus import stopwords\n",
    "import re\n",
    "stopwords_ru = stopwords.words('russian')"
   ]
  },
  {
   "cell_type": "code",
   "execution_count": null,
   "id": "4d9a402d-f743-487e-9f08-3436b06ddd0b",
   "metadata": {
    "id": "4d9a402d-f743-487e-9f08-3436b06ddd0b"
   },
   "outputs": [],
   "source": [
    "path = 'C:\\\\Users\\\\Aleksandr\\\\DostoyevskiEpistola.txt'\n",
    "with open(path, encoding='utf-8') as txt:\n",
    "  text = txt.read()\n",
    "  text = re.sub('[^а-яА-ЯёЁ -]', '', text.lower())\n",
    "  text_no_stop = ' '.join([token for token in word_tokenize(text) if token not in stopwords_ru])\n",
    "  #в последней строчке мы применили так называемый list comprehension: https://www.w3schools.com/python/python_lists_comprehension.asp\n",
    "  #это краткая запись цикла, проходящего по некоторому множеству, который сохраняет элементы через append по какому-то условию"
   ]
  },
  {
   "cell_type": "code",
   "execution_count": null,
   "id": "5467ca9a-fee2-477c-8e6f-af5cb5f5d4fe",
   "metadata": {
    "colab": {
     "base_uri": "https://localhost:8080/"
    },
    "id": "5467ca9a-fee2-477c-8e6f-af5cb5f5d4fe",
    "outputId": "a04e8a13-97c0-41de-c205-980001d7f98f"
   },
   "outputs": [],
   "source": [
    "print(len(text_no_stop.split())) #количество токенов после очистки от стоп-слов"
   ]
  },
  {
   "cell_type": "markdown",
   "id": "lO2TXr5Gz4jL",
   "metadata": {
    "id": "lO2TXr5Gz4jL"
   },
   "source": [
    "Наконец мы можем составить частотный словарь:"
   ]
  },
  {
   "cell_type": "code",
   "execution_count": null,
   "id": "32d02cff-1d1f-4a8e-90ac-6a370521c280",
   "metadata": {
    "colab": {
     "base_uri": "https://localhost:8080/"
    },
    "id": "32d02cff-1d1f-4a8e-90ac-6a370521c280",
    "outputId": "0a48e68a-3455-4aaf-8c32-dcf581258ec5"
   },
   "outputs": [],
   "source": [
    "text_tokens = word_tokenize(text_no_stop)\n",
    "word_frequencies = FreqDist(text_tokens)\n",
    "word_frequencies = dict(sorted(word_frequencies.items(), key=lambda item: item[1], reverse=True)) #отсортируем список по значению ключа"
   ]
  },
  {
   "cell_type": "code",
   "execution_count": null,
   "id": "e8ea03c0-6d7c-4b44-9490-458db0072ae2",
   "metadata": {},
   "outputs": [],
   "source": [
    "word_frequencies['это']"
   ]
  },
  {
   "cell_type": "markdown",
   "id": "7ee15eee-7b76-4a12-a043-79e9214f38f5",
   "metadata": {},
   "source": [
    "Если мы хотим получить срез по частотнику и нам не так важен тип словаря (например, для поиска по ключу), то можно обойтись без возвращение в словарь. Тогда мы сможем получить топы частот без излишних проблем:"
   ]
  },
  {
   "cell_type": "code",
   "execution_count": null,
   "id": "b59d207c-9ac6-4bea-a29b-6cda429358fe",
   "metadata": {},
   "outputs": [],
   "source": [
    "lst = sorted(word_frequencies.items(), key=lambda item: item[1], reverse=True)\n",
    "lst[:10]"
   ]
  },
  {
   "cell_type": "markdown",
   "id": "tA9i5qPR5r3m",
   "metadata": {
    "id": "tA9i5qPR5r3m"
   },
   "source": [
    "Здесь мы применили лямбда-функцию. Подробнее о них можно повторить здесь: https://www.w3schools.com/python/python_lambda.asp"
   ]
  },
  {
   "cell_type": "markdown",
   "id": "ELYCOtIP2HqT",
   "metadata": {
    "id": "ELYCOtIP2HqT"
   },
   "source": [
    "Аналогичный подход из nltk:"
   ]
  },
  {
   "cell_type": "code",
   "execution_count": null,
   "id": "2neVR-WV2LJz",
   "metadata": {
    "colab": {
     "base_uri": "https://localhost:8080/"
    },
    "id": "2neVR-WV2LJz",
    "outputId": "12474d0d-26b0-4208-df78-839055f85da0"
   },
   "outputs": [],
   "source": [
    "word_frequencies.most_common(50)"
   ]
  },
  {
   "cell_type": "markdown",
   "id": "akiRPEhH1i-Z",
   "metadata": {
    "id": "akiRPEhH1i-Z"
   },
   "source": [
    "Визуализируем этот топ слов в письмах Достоевского:"
   ]
  },
  {
   "cell_type": "code",
   "execution_count": null,
   "id": "IXVywwps0GCU",
   "metadata": {
    "colab": {
     "base_uri": "https://localhost:8080/",
     "height": 565
    },
    "id": "IXVywwps0GCU",
    "outputId": "eb8e7693-28bd-409d-b577-b7e6f4287415"
   },
   "outputs": [],
   "source": [
    "word_frequencies.plot(150, title='Распределение слов в письмах Достоевского') #сначала указывается количество помещаемых слов на график\n",
    "#в случае большого корпуса стоит указывать не слишком большое значение, иначе график будет отрисовываться вечно"
   ]
  },
  {
   "cell_type": "markdown",
   "id": "KeaqRFs91iI8",
   "metadata": {
    "id": "KeaqRFs91iI8"
   },
   "source": [
    "**Задание 4.** Напишите такой код, который:  \n",
    "1) откроет файл с романом \"Идиот\";  \n",
    "2) сделает простую предобработку;  \n",
    "3) посчитает, сколько токенов всего в романе и сколько в нем уникальных токенов;  \n",
    "4) посчитает относительную долю каждого из топ-10 слов в тексте;\n",
    "5) посчитает TTR романа."
   ]
  },
  {
   "cell_type": "code",
   "execution_count": null,
   "id": "7e9b10ac-4eef-4f9a-b84e-a8f2fe58afe6",
   "metadata": {},
   "outputs": [],
   "source": []
  },
  {
   "cell_type": "code",
   "execution_count": null,
   "id": "fb8f7f19-5a35-4a4a-a947-01e7c76d02fd",
   "metadata": {},
   "outputs": [],
   "source": []
  },
  {
   "cell_type": "markdown",
   "id": "db4c5eee-5a8b-47c2-b878-d69503e28483",
   "metadata": {},
   "source": [
    "x - число употреблений всех слов в тексте\n",
    "z - число употреблений искомого слова\n",
    "y = z / x * 1000000"
   ]
  },
  {
   "cell_type": "markdown",
   "id": "a5716890",
   "metadata": {
    "id": "a5716890"
   },
   "source": [
    "**Частоты и Ципф.**"
   ]
  },
  {
   "cell_type": "markdown",
   "id": "jCEoxlsnCpw8",
   "metadata": {
    "id": "jCEoxlsnCpw8"
   },
   "source": [
    "В текстах естественного языка наблюдается явление, которое называется ***законом Ципфа***."
   ]
  },
  {
   "cell_type": "markdown",
   "id": "qSu0VrMWC1zv",
   "metadata": {
    "id": "qSu0VrMWC1zv"
   },
   "source": [
    "Закон Ципфа — это эмпирический закон в лингвистике, описывающий частоту встречаемости слов в больших текстах (корпусах). Он утверждает, что частота  *f*  слова обратно пропорциональна его рангу *r* в списке слов, отсортированном по частоте встречаемости.  \n",
    "f ≈ k / r  \n",
    "Самое частотное слово (r=1) встречается примерно в k раз.  \n",
    "Второе по частоте слово (r=2) встречается примерно в k/2 раз.  \n",
    "Третье по частоте слово (r=3) встречается примерно в k/3 раз, и так далее.  "
   ]
  },
  {
   "cell_type": "markdown",
   "id": "Mr9DJDAtDZJv",
   "metadata": {
    "id": "Mr9DJDAtDZJv"
   },
   "source": [
    "![qSUgV.jpg](data:image/jpeg;base64,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)"
   ]
  },
  {
   "cell_type": "markdown",
   "id": "sWL0GMb3Dee5",
   "metadata": {
    "id": "sWL0GMb3Dee5"
   },
   "source": [
    "**Задание 5**. Визуализируйте топ-100 частот в \"Идиоте\". Похожи ли они на график, соответствующий закону Ципфа?"
   ]
  },
  {
   "cell_type": "code",
   "execution_count": null,
   "id": "4a68e0f6-bc68-41aa-8f39-81d8ea64546a",
   "metadata": {},
   "outputs": [],
   "source": []
  },
  {
   "cell_type": "markdown",
   "id": "27UCd5a-HHwy",
   "metadata": {
    "id": "27UCd5a-HHwy"
   },
   "source": [
    "**Облако слов.**"
   ]
  },
  {
   "cell_type": "markdown",
   "id": "wp5PCZuYHK58",
   "metadata": {
    "id": "wp5PCZuYHK58"
   },
   "source": [
    "Ещё одним визуальным инструментом работы с частотами является визуализация с помощью облаков слов.  \n",
    "Это визуальное представление частот, где размер слова пропорционален частоте слов. Это позволяет быстро и наглядно визуально оценить ключевые слова или представлять такие данные.  \n",
    "\n",
    "При этом, конечно, облака слов (почти) не учитывают контекст и зависят от длины текста."
   ]
  },
  {
   "cell_type": "code",
   "execution_count": null,
   "id": "3ceo0_aTIi2u",
   "metadata": {
    "id": "3ceo0_aTIi2u"
   },
   "outputs": [],
   "source": [
    "from wordcloud import WordCloud\n",
    "import matplotlib.pyplot as plt"
   ]
  },
  {
   "cell_type": "code",
   "execution_count": null,
   "id": "YE4lmevjH6SC",
   "metadata": {
    "colab": {
     "base_uri": "https://localhost:8080/",
     "height": 424
    },
    "id": "YE4lmevjH6SC",
    "outputId": "3966df86-e2e9-4116-bd57-b1691265ed46"
   },
   "outputs": [],
   "source": [
    "wordcloud = WordCloud(width=800, height=400, random_state=21, max_font_size=110).generate(text_no_stop)\n",
    "plt.figure(figsize=(10, 8))\n",
    "plt.imshow(wordcloud, interpolation=\"bilinear\")\n",
    "plt.axis(\"off\")\n",
    "plt.show()"
   ]
  },
  {
   "cell_type": "markdown",
   "id": "HFNjoVRBIde7",
   "metadata": {
    "id": "HFNjoVRBIde7"
   },
   "source": [
    "Немного украсим:"
   ]
  },
  {
   "cell_type": "code",
   "execution_count": null,
   "id": "FaFao69AIxGh",
   "metadata": {
    "colab": {
     "base_uri": "https://localhost:8080/",
     "height": 424
    },
    "id": "FaFao69AIxGh",
    "outputId": "2f1ef582-3181-43c8-c63c-8fa95ebf7a9d"
   },
   "outputs": [],
   "source": [
    "wordcloud = WordCloud(background_color='white', colormap = 'inferno_r', width=800, height=400, random_state=21, max_font_size=110).generate(text_no_stop)\n",
    "plt.figure(figsize=(10, 8))\n",
    "plt.imshow(wordcloud, interpolation=\"bilinear\")\n",
    "plt.axis(\"off\")\n",
    "plt.show()"
   ]
  },
  {
   "cell_type": "markdown",
   "id": "Vt_Y9Vj_I7UN",
   "metadata": {
    "id": "Vt_Y9Vj_I7UN"
   },
   "source": [
    "Документация библиотеки здесь: https://amueller.github.io/word_cloud/"
   ]
  },
  {
   "cell_type": "markdown",
   "id": "nzDhEdZkJq9h",
   "metadata": {
    "id": "nzDhEdZkJq9h"
   },
   "source": [
    "Список расцветок для слов:"
   ]
  },
  {
   "cell_type": "code",
   "execution_count": null,
   "id": "9r0w-OZDJl0M",
   "metadata": {
    "colab": {
     "base_uri": "https://localhost:8080/"
    },
    "id": "9r0w-OZDJl0M",
    "outputId": "d1892b00-9a59-458a-f00d-4990e123a3c3"
   },
   "outputs": [],
   "source": [
    "colormap = ['Accent', 'Accent_r', 'Blues', 'Blues_r', 'BrBG', 'BrBG_r', 'BuGn', 'BuGn_r', 'BuPu', 'BuPu_r', 'CMRmap', 'CMRmap_r', 'Dark2', 'Dark2_r', 'GnBu', 'GnBu_r', 'Greens', 'Greens_r', 'Greys', 'Greys_r', 'OrRd', 'OrRd_r', 'Oranges', 'Oranges_r', 'PRGn', 'PRGn_r', 'Paired', 'Paired_r', 'Pastel1', 'Pastel1_r', 'Pastel2', 'Pastel2_r', 'PiYG', 'PiYG_r', 'PuBu', 'PuBuGn', 'PuBuGn_r', 'PuBu_r', 'PuOr', 'PuOr_r', 'PuRd', 'PuRd_r', 'Purples', 'Purples_r', 'RdBu', 'RdBu_r', 'RdGy', 'RdGy_r', 'RdPu', 'RdPu_r', 'RdYlBu', 'RdYlBu_r', 'RdYlGn', 'RdYlGn_r', 'Reds', 'Reds_r', 'Set1', 'Set1_r', 'Set2', 'Set2_r', 'Set3', 'Set3_r', 'Spectral', 'Spectral_r', 'Wistia', 'Wistia_r', 'YlGn', 'YlGnBu', 'YlGnBu_r', 'YlGn_r', 'YlOrBr', 'YlOrBr_r', 'YlOrRd', 'YlOrRd_r', 'afmhot', 'afmhot_r', 'autumn', 'autumn_r', 'binary', 'binary_r', 'bone', 'bone_r', 'brg', 'brg_r', 'bwr', 'bwr_r', 'cividis', 'cividis_r', 'cool', 'cool_r', 'coolwarm', 'coolwarm_r', 'copper', 'copper_r', 'cubehelix', 'cubehelix_r', 'flag', 'flag_r', 'gist_earth', 'gist_earth_r', 'gist_gray', 'gist_gray_r', 'gist_heat', 'gist_heat_r', 'gist_ncar', 'gist_ncar_r', 'gist_rainbow', 'gist_rainbow_r', 'gist_stern', 'gist_stern_r', 'gist_yarg', 'gist_yarg_r', 'gnuplot', 'gnuplot2', 'gnuplot2_r', 'gnuplot_r', 'gray', 'gray_r', 'hot', 'hot_r', 'hsv', 'hsv_r', 'inferno', 'inferno_r', 'jet', 'jet_r', 'magma', 'magma_r', 'nipy_spectral', 'nipy_spectral_r', 'ocean', 'ocean_r', 'pink', 'pink_r', 'plasma', 'plasma_r', 'prism', 'prism_r', 'rainbow', 'rainbow_r', 'seismic', 'seismic_r', 'spring', 'spring_r', 'summer', 'summer_r', 'tab10', 'tab10_r', 'tab20', 'tab20_r', 'tab20b', 'tab20b_r', 'tab20c', 'tab20c_r', 'terrain', 'terrain_r', 'twilight', 'twilight_r', 'twilight_shifted', 'twilight_shifted_r', 'viridis', 'viridis_r', 'winter', 'winter_r']\n",
    "print(colormap)"
   ]
  },
  {
   "cell_type": "markdown",
   "id": "jBI73naKJxUy",
   "metadata": {
    "id": "jBI73naKJxUy"
   },
   "source": [
    "**Задание 6**. Нарисуйте облако слов для \"Идиота\", предварительно удалив стоп-слова."
   ]
  },
  {
   "cell_type": "code",
   "execution_count": null,
   "id": "2cd62cf0-010a-442f-8d67-6a648cc79185",
   "metadata": {},
   "outputs": [],
   "source": []
  },
  {
   "cell_type": "code",
   "execution_count": null,
   "id": "3a78abd4-b989-4982-ac56-00595052fbc3",
   "metadata": {},
   "outputs": [],
   "source": []
  }
 ],
 "metadata": {
  "colab": {
   "provenance": [],
   "toc_visible": true
  },
  "kernelspec": {
   "display_name": "Python 3 (ipykernel)",
   "language": "python",
   "name": "python3"
  },
  "language_info": {
   "codemirror_mode": {
    "name": "ipython",
    "version": 3
   },
   "file_extension": ".py",
   "mimetype": "text/x-python",
   "name": "python",
   "nbconvert_exporter": "python",
   "pygments_lexer": "ipython3",
   "version": "3.12.4"
  }
 },
 "nbformat": 4,
 "nbformat_minor": 5
}
