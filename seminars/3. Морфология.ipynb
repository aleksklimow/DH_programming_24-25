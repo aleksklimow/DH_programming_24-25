{
 "cells": [
  {
   "cell_type": "markdown",
   "id": "123edeb8-fb89-4590-9194-363b84a8f88d",
   "metadata": {},
   "source": [
    "Морфология - важная дисциплина внутри лингвистики. Хотя исследование граммем может показаться для людей, не связанных с лингвистикой, многие вещи, связанные с морфологическим анализом, полезны для широкого спектра людей: особенно такие практики как **стемминг**, **лемматизация** и разметка **частей речи** (*POS-tagging*).  \n",
    "Одной из ключевых задач простой компьютерной морфологии является подготовка данных таким образом, чтобы в них не было чрезмерной вариативности одного и того же слова (очевидный пример - разнообразие падежных форм в русском языке). Для подсчетов частот, извлечения ключевых слов, построения тематичеких моделей, облаков слов и т.д. очень полезно уметь привести весь текст к единообразному виду. Для этого и нужны **стемминг** и **лемматизация**. Разберем оба вида подробнее."
   ]
  },
  {
   "cell_type": "markdown",
   "id": "74608a3f-7571-4846-830c-5549402ab246",
   "metadata": {},
   "source": [
    "**Стемминг** - процесс отсечения суффиков (достаточно условный) по своим определенным правилам. Рассмотрим простейший стемминг на примере английского языка."
   ]
  },
  {
   "cell_type": "code",
   "execution_count": null,
   "id": "2a696938-db5d-49a1-a438-496bd7d8594e",
   "metadata": {},
   "outputs": [],
   "source": [
    "import nltk\n",
    "from nltk import word_tokenize\n",
    "from nltk.stem import PorterStemmer #собственно говоря, это стеммер, который нам нужен для отсечения суффиксов\n",
    "ps = PorterStemmer()"
   ]
  },
  {
   "cell_type": "code",
   "execution_count": null,
   "id": "400b1462-7a41-4db5-9e4f-d454e06285d8",
   "metadata": {},
   "outputs": [],
   "source": [
    "text = 'John really loves all those fluffy kittens!'\n",
    "tokens = word_tokenize(text)\n",
    "for token in tokens:\n",
    "    token_stem = ps.stem(token)\n",
    "    print(token_stem)  "
   ]
  },
  {
   "cell_type": "markdown",
   "id": "079b6448-1ced-4c1a-93ab-c5bbf301ada2",
   "metadata": {},
   "source": [
    "**Задание 1 (на повторение списков и их методов в том числе).** Измените предыдущий код так, чтобы программа распечатала новую строку, в которой будут не изначальные формы, а объединенные в строку обработанные стемы."
   ]
  },
  {
   "cell_type": "code",
   "execution_count": null,
   "id": "a9a3315b-6111-4617-9315-11422084ed10",
   "metadata": {},
   "outputs": [],
   "source": []
  },
  {
   "cell_type": "markdown",
   "id": "a06c04e1-4933-40e7-b6f5-b9ed10f7bb40",
   "metadata": {},
   "source": [
    "Посмотрим на один классический пример:"
   ]
  },
  {
   "cell_type": "code",
   "execution_count": null,
   "id": "8519ef82-42fa-4564-91a9-fae5794b5c05",
   "metadata": {},
   "outputs": [],
   "source": [
    "text = 'Programmers program with programming languages'\n",
    "tokens = word_tokenize(text)\n",
    "for token in tokens:\n",
    "    token_stem = ps.stem(token)\n",
    "    print(token_stem)  "
   ]
  },
  {
   "cell_type": "markdown",
   "id": "b3f5a17b-1886-45f8-b20e-450aa5df25c8",
   "metadata": {},
   "source": [
    "**Вопрос.** В чем недостаток такого аутпута?"
   ]
  },
  {
   "cell_type": "markdown",
   "id": "9327500d-a93a-46ea-9d5d-5aa1fa0432ba",
   "metadata": {},
   "source": [
    "Что будет, если применить стеммер Портера на русском языке?"
   ]
  },
  {
   "cell_type": "code",
   "execution_count": null,
   "id": "2829823c-b1de-4246-ba69-082e290968fd",
   "metadata": {},
   "outputs": [],
   "source": [
    "text = 'Джон очень любит пушистых котят!'\n",
    "tokens = word_tokenize(text)\n",
    "for token in tokens:\n",
    "    token_stem = ps.stem(token)\n",
    "    print(token_stem)  "
   ]
  },
  {
   "cell_type": "markdown",
   "id": "058b77d5-b031-4d4f-8815-6e155cf1c9e8",
   "metadata": {},
   "source": [
    "Увы, он работает только с английским языком. Для крупных языков есть другие решения. Например, в nltk есть SnowballStemmer."
   ]
  },
  {
   "cell_type": "code",
   "execution_count": null,
   "id": "5aaef341-db68-4d87-a192-bfd5194b4ff4",
   "metadata": {
    "scrolled": true
   },
   "outputs": [],
   "source": [
    "from nltk.stem import SnowballStemmer\n",
    "print(\" \".join(SnowballStemmer.languages)) #посмотрим, для каких языков есть решения"
   ]
  },
  {
   "cell_type": "markdown",
   "id": "222fbf7c-bd5f-4e0b-963c-931cd67e9ed1",
   "metadata": {},
   "source": [
    "Проверим некоторые из них:"
   ]
  },
  {
   "cell_type": "code",
   "execution_count": null,
   "id": "d7b5d43e-3603-4202-bae5-7448222431cd",
   "metadata": {},
   "outputs": [],
   "source": [
    "ger_stemmer = SnowballStemmer('german')\n",
    "rus_stemmer = SnowballStemmer('russian')"
   ]
  },
  {
   "cell_type": "code",
   "execution_count": null,
   "id": "1810de2a-8393-4214-a875-21d880a8aed7",
   "metadata": {},
   "outputs": [],
   "source": [
    "text = 'Ich habe es schon gemacht, mein lieber Freund!'\n",
    "tokens = word_tokenize(text)\n",
    "for token in tokens:\n",
    "    token_stem = ger_stemmer.stem(token)\n",
    "    print(token_stem)  "
   ]
  },
  {
   "cell_type": "code",
   "execution_count": null,
   "id": "c4f9ca51-c92c-4269-9758-e703fd457b70",
   "metadata": {},
   "outputs": [],
   "source": [
    "text = 'Я уже все это сделал, дайте мне отдохнуть, дорогие коллеги!'\n",
    "tokens = word_tokenize(text)\n",
    "for token in tokens:\n",
    "    token_stem = rus_stemmer.stem(token)\n",
    "    print(token_stem)  "
   ]
  },
  {
   "cell_type": "markdown",
   "id": "e1389602-bfdd-4f4d-83f6-8630424c2f3a",
   "metadata": {},
   "source": [
    "**Задание 2.** Выберите любой из оставшихся языков и проверьте, как на нем работает SnowballStemmer."
   ]
  },
  {
   "cell_type": "code",
   "execution_count": null,
   "id": "a7cb4859-83b3-42e5-9fea-d9661885b558",
   "metadata": {},
   "outputs": [],
   "source": [
    "#cделано"
   ]
  },
  {
   "cell_type": "markdown",
   "id": "d18a09f7-db77-48b5-8dff-bf07f094b301",
   "metadata": {},
   "source": [
    "Поработаем снова с письмами Достоевского."
   ]
  },
  {
   "cell_type": "code",
   "execution_count": null,
   "id": "af44859b-1774-4463-8dce-cf7a927bb319",
   "metadata": {},
   "outputs": [],
   "source": [
    "import re\n",
    "nltk.download('stopwords')\n",
    "from nltk.corpus import stopwords\n",
    "import re\n",
    "stopwords_ru = stopwords.words('russian')"
   ]
  },
  {
   "cell_type": "code",
   "execution_count": null,
   "id": "0c82b6b4-6691-471b-bbe2-55a47c53ec3e",
   "metadata": {},
   "outputs": [],
   "source": [
    "path = 'C:\\\\Users\\\\Aleksandr\\\\DostoyevskiEpistola.txt'\n",
    "with open(path, encoding='utf-8') as txt:\n",
    "  text = txt.read()\n",
    "  text = re.sub('[^а-яА-ЯёЁ -]', '', text.lower())\n",
    "  text_no_stop = ' '.join([token for token in word_tokenize(text) if token not in stopwords_ru])\n",
    "print(len(text_no_stop.split())) #количество токенов после очистки от стоп-слов\n",
    "print(len(set(text_no_stop.split()))) #количество типов в тексте"
   ]
  },
  {
   "cell_type": "markdown",
   "id": "9ddbe689-ea3f-412d-9d51-246b9b457a35",
   "metadata": {},
   "source": [
    "А теперь возьмем этот же текст и обработаем его стеммером, чтобы увидеть количество типов стем."
   ]
  },
  {
   "cell_type": "code",
   "execution_count": null,
   "id": "72c8a46c-4776-43c5-9f53-626e650b0c1e",
   "metadata": {},
   "outputs": [],
   "source": [
    "tokens = word_tokenize(text_no_stop)\n",
    "stemmed_tokens = []\n",
    "for token in tokens:\n",
    "    token_stem = rus_stemmer.stem(token)\n",
    "    stemmed_tokens.append(token_stem)\n",
    "stemmed_epistola = ' '.join(stemmed_tokens)\n",
    "print(len(stemmed_epistola.split())) #количество токенов после очистки от стоп-слов\n",
    "print(len(set(stemmed_epistola.split()))) #количество типов в тексте"
   ]
  },
  {
   "cell_type": "markdown",
   "id": "a2510c05-cb77-4e9e-907d-00b7f56af12e",
   "metadata": {},
   "source": [
    "**NB!** Для тех, кто хочет освиваться с list comprehensions, аналогом кода с циклом выше будут следующие строчки:"
   ]
  },
  {
   "cell_type": "code",
   "execution_count": null,
   "id": "37dec9ba-cb0b-437b-a322-6733daa496df",
   "metadata": {},
   "outputs": [],
   "source": [
    "stemmed_tokens = [rus_stemmer.stem(token) for token in word_tokenize(text_no_stop)]\n",
    "print(len(stemmed_epistola.split())) #количество токенов после очистки от стоп-слов\n",
    "print(len(set(stemmed_epistola.split()))) #количество типов в тексте"
   ]
  },
  {
   "cell_type": "markdown",
   "id": "993e863e-d5ed-446b-aab4-be782f5f1fca",
   "metadata": {},
   "source": [
    "Разница налицо: мы заметно уменьшили количество уникальных типов слов, объединив многие из разных словоформ в один стем.  \n",
    "Стемминг очень эффективен для аналитических языков вроде английского с не слишком разнообразным словооизменением. Он быстр (намного быстрее лемматизации) и справляется с необходимостью снизить вариативность словоформ в тексте, однако неоптимален для языков с большим разнообразием словоформ."
   ]
  },
  {
   "cell_type": "markdown",
   "id": "8740d291-148f-46f7-9907-d02f660eff92",
   "metadata": {},
   "source": [
    "**Задание 3.** Выберите любой текст. Сравните количество типов в необработанном тексте и после стемминга (т.е. посчитать количество уникальных типов токенов и уникальных типов стемов)."
   ]
  },
  {
   "cell_type": "code",
   "execution_count": null,
   "id": "9d1aab2e-c6b2-4f7a-b9a3-8d08d7d13f1c",
   "metadata": {},
   "outputs": [],
   "source": []
  },
  {
   "cell_type": "code",
   "execution_count": null,
   "id": "8b380aad-88b8-4605-a1ca-adb696c57bb9",
   "metadata": {},
   "outputs": [],
   "source": []
  },
  {
   "cell_type": "markdown",
   "id": "63406369-3cd2-4630-a5c3-f17a6faf5d1c",
   "metadata": {},
   "source": [
    "**Лемматизация** - это процесс приведения к начальной форме слова (**лемме**). Например, у токена \"лопатой\" леммой является форма \"лопата\"."
   ]
  },
  {
   "cell_type": "markdown",
   "id": "e3505b73-67ff-4aa5-96f0-57176fa5a5e2",
   "metadata": {},
   "source": [
    "Лемматизация учитывает часть речи и сочетания с другими словами, т.е. старается учесть контекст - в отличие от стемминга, который строится на простых правилах (именно поэтому стемминг намного быстрее леммматизации). Она упрощает поиск ключевых слов, анализ текстовых данных и особенно важна при подготовке текстовых данных к кластерному анализу и тематическому моделированию."
   ]
  },
  {
   "cell_type": "markdown",
   "id": "0cc1cd2a-9fc6-4112-9e8d-6cba9bdb2070",
   "metadata": {},
   "source": [
    "Разберем несколько вариантов лемматизаций для русского и других языков."
   ]
  },
  {
   "cell_type": "markdown",
   "id": "e1cb8f6e-a470-466d-937f-953df0bdbf7a",
   "metadata": {},
   "source": [
    "Одним из самых точных и быстрых решений для русского языка будет модуль **pymorphy3**. Он быстрее многих своих конкурентов и достаточно точен, хотя и не учитывает контекст, т.е. не умеет снимать омонимию самостоятельно."
   ]
  },
  {
   "cell_type": "code",
   "execution_count": null,
   "id": "c1151f5f-7edd-4184-b38e-31e151f673a8",
   "metadata": {},
   "outputs": [],
   "source": [
    "!pip install pymorphy3"
   ]
  },
  {
   "cell_type": "code",
   "execution_count": null,
   "id": "c40dcc15-e803-4a4a-86dd-5d8b4daaee35",
   "metadata": {},
   "outputs": [],
   "source": [
    "from pymorphy3 import MorphAnalyzer #загрузим анализатор\n",
    "morph = MorphAnalyzer() #сохраним его в переменную, чтобы заработал"
   ]
  },
  {
   "cell_type": "markdown",
   "id": "d7ec8ed3-3bf7-4149-b9b8-fa078e77bcb4",
   "metadata": {},
   "source": [
    "Теперь мы можем легко получить все варианты разбора слова. Например, рассмотрим неоднозначное слово \"стекла\" и его варианты разбора."
   ]
  },
  {
   "cell_type": "code",
   "execution_count": null,
   "id": "9bd47f68-76d1-4146-a34c-ebe757021eb2",
   "metadata": {},
   "outputs": [],
   "source": [
    "word = morph.parse('cтекла') #получим все варианты разбора\n",
    "word"
   ]
  },
  {
   "cell_type": "markdown",
   "id": "55b12766-6c72-4f3a-8d74-eecc8fa00c47",
   "metadata": {},
   "source": [
    "**Задание 4**. Придумайте свое неоднозначное слово и получите его разбор."
   ]
  },
  {
   "cell_type": "code",
   "execution_count": null,
   "id": "9e57d539-1eb9-4a9f-9c8a-7aadda443e87",
   "metadata": {},
   "outputs": [],
   "source": []
  },
  {
   "cell_type": "markdown",
   "id": "5902c67f-c52b-4252-80e1-ca875e1c22f2",
   "metadata": {},
   "source": [
    "На самом деле, работая с большим массивом данных с помощью pymorphy, нет почти никогда большой необходимости брать менее вероятные варианты разбора. Если вы хотите получать только наиболее вероятный разбор (т.е. наиболее часто встретившийся в обучающем корпусе), то нужно применить нехитрый трюк со срезом:"
   ]
  },
  {
   "cell_type": "code",
   "execution_count": null,
   "id": "6acbe75f-ac41-4a85-ba15-8c1e61307d41",
   "metadata": {},
   "outputs": [],
   "source": [
    "word = morph.parse('cтекла')[0] #получим самый вероятный вариант разбора\n",
    "word"
   ]
  },
  {
   "cell_type": "markdown",
   "id": "50694bc8-cd0c-4678-837a-491470fbb048",
   "metadata": {},
   "source": [
    "Но нас в первую очередь сейчас интересует только начальная форма. Получим её следующим образом:"
   ]
  },
  {
   "cell_type": "code",
   "execution_count": null,
   "id": "39f19014-1d1f-4716-8b4e-00cb99d4c682",
   "metadata": {},
   "outputs": [],
   "source": [
    "word_lemma = morph.parse('cтекла')[0].normal_form\n",
    "word_lemma"
   ]
  },
  {
   "cell_type": "markdown",
   "id": "e942aee9-9e9d-4fe9-96ea-3fc4e5788a10",
   "metadata": {},
   "source": [
    "Теперь мы можем обрабатывать целые тексты, получая начальные формы."
   ]
  },
  {
   "cell_type": "code",
   "execution_count": null,
   "id": "6871e808-2b78-4d1a-a4d2-744c9b19f0df",
   "metadata": {},
   "outputs": [],
   "source": [
    "text_1 = 'Мой дядя самых честных правил, Когда не в шутку занемог, Он уважать себя заставил И лучше выдумать не мог. Его пример другим наука; Но, боже мой, какая скука С больным сидеть и день и ночь, Не отходя ни шагу прочь! Какое низкое коварство Полуживого забавлять, Ему подушки поправлять, Печально подносить лекарство, Вздыхать и думать про себя: Когда же чёрт возьмёт тебя?'\n",
    "text_2 = 'Глокая куздра штеко будланула бокра и курдячит бокренка'\n",
    "text_3 = 'Из чапыги с фырканьем вынырнули два зайца и, взрывая снег,  побежали  к межам. Под коленкоровой дороге скрипел обоз; под обротями трепыхались вяхири, и лошади, кинув жвачку, напрянули уши.'\n",
    "lemm_tokens = []\n",
    "for token in word_tokenize(text_3.lower()):\n",
    "    token_lemma = morph.parse(token)[0].normal_form\n",
    "    lemm_tokens.append(token_lemma)\n",
    "lemmatized_text = ' '.join(lemm_tokens)\n",
    "print(lemmatized_text)"
   ]
  },
  {
   "cell_type": "markdown",
   "id": "2e8a13bf-084a-4230-b311-b838d6902858",
   "metadata": {},
   "source": [
    "**Задание 5.** Выберите любой короткий текст на русском языке и лемматизируйте его. Проверьте разбор: есть ли неправильные результаты?"
   ]
  },
  {
   "cell_type": "code",
   "execution_count": null,
   "id": "7f674502-6a83-4cde-9473-7a8deac80252",
   "metadata": {},
   "outputs": [],
   "source": []
  },
  {
   "cell_type": "markdown",
   "id": "b096b7dc-1164-4ff2-a17c-bd1316f72c2b",
   "metadata": {},
   "source": [
    "Давайте ещё раз поработаем с Достоевским и посмотрим на количество уникальных лемм."
   ]
  },
  {
   "cell_type": "code",
   "execution_count": null,
   "id": "bbd2d18d-e34f-4ec6-ad63-215a74512600",
   "metadata": {},
   "outputs": [],
   "source": [
    "lemm_tok_epistola = []\n",
    "for token in word_tokenize(text_no_stop):\n",
    "    token_lemma = morph.parse(token)[0].normal_form\n",
    "    lemm_tok_epistola.append(token_lemma)\n",
    "lemmatized_epistola = ' '.join(lemm_tok_epistola)\n",
    "\n",
    "print(len(set(lemm_tok_epistola)))"
   ]
  },
  {
   "cell_type": "code",
   "execution_count": null,
   "id": "210af8ee-3999-4858-8729-a76d95ff57b3",
   "metadata": {},
   "outputs": [],
   "source": [
    "lemmatized_epistola[:100]"
   ]
  },
  {
   "cell_type": "markdown",
   "id": "6dc991d3-e0de-41b5-bdf2-c59fa6ec71a8",
   "metadata": {},
   "source": [
    "**Задание 6.** Вернитесь к тексту, который вы сравнивали по количеству типов в обычном виде и в виде стемов. Какое количество уникальных лемм в нем?"
   ]
  },
  {
   "cell_type": "code",
   "execution_count": null,
   "id": "9b46af75-8485-4ea7-9a54-5198b8aa5ef4",
   "metadata": {},
   "outputs": [],
   "source": []
  },
  {
   "cell_type": "markdown",
   "id": "b800ec58-c962-4642-8e83-1d6b4870ad01",
   "metadata": {},
   "source": [
    "Другой эффективный инструмент разметки русского языка - это **mystem.**"
   ]
  },
  {
   "cell_type": "code",
   "execution_count": null,
   "id": "ddbb34f2-11d0-40f9-8e75-cb2a1c0f51a5",
   "metadata": {},
   "outputs": [],
   "source": [
    "! pip install PyMystem3"
   ]
  },
  {
   "cell_type": "code",
   "execution_count": null,
   "id": "dcef2cdd-efa7-44bc-be51-47862f88cac8",
   "metadata": {},
   "outputs": [],
   "source": [
    "from pymystem3 import Mystem\n",
    "morph = Mystem()"
   ]
  },
  {
   "cell_type": "markdown",
   "id": "ad1ebcf4-5a80-49fb-b601-b7819d6541eb",
   "metadata": {},
   "source": [
    "В отличие от pymorphy3 Майстем умеет самостоятельно снимать омономию и токенизировать, т.е. токенизация из nltk в этом случае не понадобится."
   ]
  },
  {
   "cell_type": "code",
   "execution_count": null,
   "id": "d9304bb3-097e-419f-9c00-587520e6e1b9",
   "metadata": {},
   "outputs": [],
   "source": [
    "text = 'Мой дядя самых честных правил, Когда не в шутку занемог, Он уважать себя заставил И лучше выдумать не мог. Его пример другим наука; Но, боже мой, какая скука С больным сидеть и день и ночь, Не отходя ни шагу прочь! Какое низкое коварство Полуживого забавлять, Ему подушки поправлять, Печально подносить лекарство, Вздыхать и думать про себя: Когда же чёрт возьмёт тебя?'\n",
    "text_mystem = morph.analyze(text)\n",
    "# Вот, что у нас получилось\n",
    "text_mystem"
   ]
  },
  {
   "cell_type": "code",
   "execution_count": null,
   "id": "a8fba492-fcbb-45a5-8dd4-a6d5d8b0acbf",
   "metadata": {},
   "outputs": [],
   "source": [
    "text = 'Не кури, турка, трубку, купи лучше кипу пик, лучше пик кипу купи'\n",
    "text_mystem = morph.analyze(text)\n",
    "# Вот, что у нас получилось\n",
    "text_mystem"
   ]
  },
  {
   "cell_type": "markdown",
   "id": "b9f42674-9acd-4904-8ad9-5c4fc5f48157",
   "metadata": {},
   "source": [
    "Результатом является список словарей с разборами каждого слова. Это позволяет относительно легко получать ту или иную информацию о слове. Сейчас нас интересует лемматизация, достанем леммы."
   ]
  },
  {
   "cell_type": "code",
   "execution_count": null,
   "id": "dfd2295a-1c2c-4ee8-9e83-ec00de43626a",
   "metadata": {},
   "outputs": [],
   "source": [
    "print('Начальная форма слова:', text_mystem[4]['analysis'][0]['lex']) #лемма\n",
    "#в целом получение леммы очень похоже на то, что в пайморфи, просто вам нужно обращаться немного иначе. \n",
    "#вы пишете сначала название переменной, куда сохранен разбор text_mystem, затем индекс слова в строке (например, [4]),\n",
    "#затем указываете, что хотите получить разбор (['analysis']), следующий индекс [0] говорит, что надо вернуть самый вероятный\n",
    "#разбор, а ['lex'] указывает на тип разбора - в этом случае лемма"
   ]
  },
  {
   "cell_type": "markdown",
   "id": "885b7d0c-8aed-426e-824d-508c5829ef95",
   "metadata": {},
   "source": [
    "Как получить весь разобранный текст? На самом деле здесь уже не нужно получать все разборы и отдельные элементы, как раньше: в майстеме есть специальные функции для этого."
   ]
  },
  {
   "cell_type": "code",
   "execution_count": null,
   "id": "e5da2c3f-dcb2-4bff-9ca0-a98d4b29b153",
   "metadata": {},
   "outputs": [],
   "source": [
    "lemmas = morph.lemmatize(text)\n",
    "lemmas_no_spaces = []\n",
    "for lemma in lemmas:\n",
    "    if lemma != ' ':\n",
    "        lemmas_no_spaces.append(lemma)\n",
    "print(lemmas_no_spaces)\n",
    "\n",
    "#то же самое, только кратко\n",
    "lemmas_no_spaces_short = [lemma for lemma in lemmas if lemma != ' ']\n",
    "print(lemmas_no_spaces_short)\n",
    "print(lemmas_no_spaces == lemmas_no_spaces_short)"
   ]
  },
  {
   "cell_type": "markdown",
   "id": "689900fb-f135-4fca-b2e2-79727d75cb25",
   "metadata": {},
   "source": [
    "И склеим в текст:"
   ]
  },
  {
   "cell_type": "code",
   "execution_count": null,
   "id": "b2ffd6f6-7764-4f2c-96f0-12db27161b8b",
   "metadata": {},
   "outputs": [],
   "source": [
    "print(''.join(lemmas))"
   ]
  },
  {
   "cell_type": "markdown",
   "id": "21e99d55-84d3-4182-9cfc-c96a367f72e5",
   "metadata": {},
   "source": [
    "**Задание 7.** Лемматизируйте текст из заданий 3 и 6 с помощью майстема. Есть ли разница в количество уникальных типов?"
   ]
  },
  {
   "cell_type": "code",
   "execution_count": null,
   "id": "1abf8651-6f7f-470b-a7dd-6390ace00d2d",
   "metadata": {},
   "outputs": [],
   "source": []
  },
  {
   "cell_type": "markdown",
   "id": "4a04bf83-94f0-4ff7-b7ff-bedca215c44e",
   "metadata": {},
   "source": [
    "Для множества других языков (хотя и включая русский) можно использовать большую и самую мощную библиотеку **stanza.**"
   ]
  },
  {
   "cell_type": "code",
   "execution_count": null,
   "id": "d6a0f2d3-159b-4a40-86cd-0fae0ce5c437",
   "metadata": {},
   "outputs": [],
   "source": [
    "! pip install stanza"
   ]
  },
  {
   "cell_type": "code",
   "execution_count": null,
   "id": "1ec78fd6-c570-45af-bbcf-57224f88b422",
   "metadata": {},
   "outputs": [],
   "source": [
    "import stanza\n",
    "stanza.download(\"ru\")\n",
    "nlp_stanza = stanza.Pipeline(lang=\"ru\", processors=\"tokenize, pos, lemma\")"
   ]
  },
  {
   "cell_type": "code",
   "execution_count": null,
   "id": "6fb718ce-55b2-4daa-ac4e-bbd09a6ea72a",
   "metadata": {},
   "outputs": [],
   "source": [
    "text = 'Мой дядя самых честных правил, Когда не в шутку занемог, Он уважать себя заставил И лучше выдумать не мог. Его пример другим наука; Но, боже мой, какая скука С больным сидеть и день и ночь, Не отходя ни шагу прочь! Какое низкое коварство Полуживого забавлять, Ему подушки поправлять, Печально подносить лекарство, Вздыхать и думать про себя: Когда же чёрт возьмёт тебя?'\n",
    "text_stanza = nlp_stanza(text)\n",
    "print(text_stanza) #результат"
   ]
  },
  {
   "cell_type": "markdown",
   "id": "f0de5b04-b31b-455a-9d7a-7303277be527",
   "metadata": {},
   "source": [
    "Как вы видите, результат - это снова список словарей, удобный для работы. Если присмотреться, то внутрь списка вложены не словари слов, а сначала - другие списки. Это списки, содержащие целое предложение. Мы также можем работать с каждым словом по отдельности: "
   ]
  },
  {
   "cell_type": "code",
   "execution_count": null,
   "id": "ee4fbfe0-1188-45fb-a7a1-db6ff61657df",
   "metadata": {},
   "outputs": [],
   "source": [
    "word_stanza = text_stanza.sentences[0].words[3]\n",
    "print(word_stanza)"
   ]
  },
  {
   "cell_type": "markdown",
   "id": "7ce29a19-aa15-40c2-bc11-7857352d14b2",
   "metadata": {},
   "source": [
    "Так как это словарь, можно обращаться к ключам:"
   ]
  },
  {
   "cell_type": "code",
   "execution_count": null,
   "id": "e7736bbe-a659-4327-a70d-b06c724f9978",
   "metadata": {},
   "outputs": [],
   "source": [
    "word_stanza.lemma"
   ]
  },
  {
   "cell_type": "code",
   "execution_count": null,
   "id": "da8b7616-d7c3-4c0b-a988-34a321c29dd4",
   "metadata": {},
   "outputs": [],
   "source": [
    "text = 'Мой дядя самых честных правил, Когда не в шутку занемог, Он уважать себя заставил И лучше выдумать не мог. Его пример другим наука; Но, боже мой, какая скука С больным сидеть и день и ночь, Не отходя ни шагу прочь! Какое низкое коварство Полуживого забавлять, Ему подушки поправлять, Печально подносить лекарство, Вздыхать и думать про себя: Когда же чёрт возьмёт тебя?'\n",
    "lemmas = []\n",
    "text_stanza = nlp_stanza(text) #обрабатываем текст \n",
    "for sentence in text_stanza.iter_tokens(): #iter_tokens позволяет итерироваться по этому объекту\n",
    "    for token in sentence.words: #обращаемся к словам\\\n",
    "        print(token.lemma) #получаем лемму из словаря\n",
    "        lemmas.append(token.lemma)"
   ]
  },
  {
   "cell_type": "code",
   "execution_count": null,
   "id": "63934149-4f88-4a8c-9faf-da3e78c84d8f",
   "metadata": {},
   "outputs": [],
   "source": [
    "print(' '.join(lemmas))"
   ]
  },
  {
   "cell_type": "markdown",
   "id": "689b5a79-9393-41f1-a6e0-b94a671f44be",
   "metadata": {},
   "source": [
    "**Задание 8.** Лемматизируйте текст из заданий 3, 6 и 7 с помощью stanza. Есть ли разница в количество уникальных типов?"
   ]
  },
  {
   "cell_type": "code",
   "execution_count": null,
   "id": "45fc39df-bdca-422c-982a-0e50db7af15b",
   "metadata": {},
   "outputs": [],
   "source": []
  },
  {
   "cell_type": "markdown",
   "id": "bac6502b-7b81-4485-8d8b-0c6b95fb4737",
   "metadata": {},
   "source": [
    "**Облака слов** благодаря лемматизации тоже становятся более информативными."
   ]
  },
  {
   "cell_type": "code",
   "execution_count": null,
   "id": "9d6bede6-30ba-45f5-8fad-e43279ee3661",
   "metadata": {},
   "outputs": [],
   "source": [
    "path = 'C:\\\\Users\\\\Aleksandr\\\\DostoyevskiEpistola.txt'\n",
    "with open(path, encoding='utf-8') as txt:\n",
    "    text = txt.read()\n",
    "    text = re.sub('[^а-яА-ЯёЁ -]', '', text[:50000].lower())\n",
    "    text_no_stop = ' '.join([token for token in word_tokenize(text) if token not in stopwords_ru])"
   ]
  },
  {
   "cell_type": "code",
   "execution_count": null,
   "id": "a24605b5-5527-4d8b-aeb2-aadaa0a8a002",
   "metadata": {},
   "outputs": [],
   "source": [
    "lemmas = []\n",
    "text_stanza = nlp_stanza(text_no_stop) #обрабатываем текст \n",
    "for sentence in text_stanza.iter_tokens(): #iter_tokens позволяет итерироваться по этому объекту\n",
    "    for token in sentence.words: #обращаемся к словам\n",
    "        lemmas.append(token.lemma)\n",
    "lemmatized_epistolas_stanza = ' '.join(lemmas)"
   ]
  },
  {
   "cell_type": "code",
   "execution_count": null,
   "id": "50dbcfd0-66dd-4309-9c42-37e06a749c50",
   "metadata": {},
   "outputs": [],
   "source": [
    "from wordcloud import WordCloud\n",
    "import matplotlib.pyplot as plt"
   ]
  },
  {
   "cell_type": "markdown",
   "id": "57d51f43-ee60-4499-a3d3-d55ae3f2f629",
   "metadata": {},
   "source": [
    "Отрисуем облако слов до лемматизации:"
   ]
  },
  {
   "cell_type": "code",
   "execution_count": null,
   "id": "cc2cc93c-89cf-45b8-a662-ef505c49b3c2",
   "metadata": {},
   "outputs": [],
   "source": [
    "wordcloud = WordCloud(background_color='white', colormap = 'inferno_r', width=800, height=400, random_state=21, max_font_size=110).generate(text_no_stop)\n",
    "plt.figure(figsize=(10, 8))\n",
    "plt.imshow(wordcloud, interpolation=\"bilinear\")\n",
    "plt.axis(\"off\")\n",
    "plt.show()"
   ]
  },
  {
   "cell_type": "markdown",
   "id": "c8f739f8-8266-4491-8e96-293230c09c2d",
   "metadata": {},
   "source": [
    "И после:"
   ]
  },
  {
   "cell_type": "code",
   "execution_count": null,
   "id": "44d9bb10-b7dd-41b6-b53b-522634e88c51",
   "metadata": {},
   "outputs": [],
   "source": [
    "wordcloud = WordCloud(background_color='white', colormap = 'inferno_r', width=800, height=400, random_state=21, max_font_size=110).generate(lemmatized_epistolas_stanza)\n",
    "plt.figure(figsize=(10, 8))\n",
    "plt.imshow(wordcloud, interpolation=\"bilinear\")\n",
    "plt.axis(\"off\")\n",
    "plt.show()"
   ]
  },
  {
   "cell_type": "markdown",
   "id": "df7ebfc8-fcff-4ffc-91f4-cebdad3681d7",
   "metadata": {},
   "source": [
    "Все ещё, конечно, не так информативно, как могло бы быть: слишком разные части речи на одном графике отвлекают внимание."
   ]
  },
  {
   "cell_type": "markdown",
   "id": "a4fc9695-abdd-4ea3-8d6c-5f7474f8c5f6",
   "metadata": {},
   "source": [
    "**Частеречная разметка.**"
   ]
  },
  {
   "cell_type": "markdown",
   "id": "1ff8c44f-cea6-45ac-893c-aa01d8a2a16b",
   "metadata": {},
   "source": [
    "Морфологические инструменты не исчерпываются простым определением начальных форм или стемов. Более того, продвинутые парсеры одновременно предсказывают и часть речи и её начальную форму. Мы можем этим пользоваться, чтобы получать информацию по частям речи в тексте."
   ]
  },
  {
   "cell_type": "markdown",
   "id": "266754df-0a83-4e83-bdb0-6efe643c3faf",
   "metadata": {},
   "source": [
    "Например, с помощью **pymorphy**:"
   ]
  },
  {
   "cell_type": "code",
   "execution_count": null,
   "id": "d26b4f39-4d42-4c3b-baa6-1903b88ee9ec",
   "metadata": {},
   "outputs": [],
   "source": [
    "from pymorphy3 import MorphAnalyzer #загрузим анализатор\n",
    "morph = MorphAnalyzer() #сохраним его в переменную, чтобы заработал"
   ]
  },
  {
   "cell_type": "code",
   "execution_count": null,
   "id": "24b99956-9088-48fb-b7e9-be4e6eb371d0",
   "metadata": {},
   "outputs": [],
   "source": [
    "word_lemma = morph.parse('капуста')\n",
    "word_lemma"
   ]
  },
  {
   "cell_type": "markdown",
   "id": "5806f071-9f5b-4fd0-8b41-808cb7bd4c03",
   "metadata": {},
   "source": [
    "Получим набор граммем для этого слова:"
   ]
  },
  {
   "cell_type": "code",
   "execution_count": null,
   "id": "916612f4-0971-407f-be20-f41ad371edfa",
   "metadata": {},
   "outputs": [],
   "source": [
    "word_lemma = morph.parse('капуста')[0].tag\n",
    "word_lemma"
   ]
  },
  {
   "cell_type": "markdown",
   "id": "b1cdb421-f212-426f-a705-2aa941e81c8e",
   "metadata": {},
   "source": [
    "Извлечем граммемы по отдельности:"
   ]
  },
  {
   "cell_type": "code",
   "execution_count": null,
   "id": "e5129815-983a-4525-b13f-7efea004806b",
   "metadata": {},
   "outputs": [],
   "source": [
    "word_lemma = morph.parse('капуста')[0]\n",
    "word_lemma.tag"
   ]
  },
  {
   "cell_type": "markdown",
   "id": "4e9938b3-0ca5-43d2-bcd9-e2ffeaa2def2",
   "metadata": {},
   "source": [
    "**Часть речи:**"
   ]
  },
  {
   "cell_type": "code",
   "execution_count": null,
   "id": "35842fc7-7c6a-44e5-9e18-d155c7820048",
   "metadata": {},
   "outputs": [],
   "source": [
    "word_lemma.tag.POS"
   ]
  },
  {
   "cell_type": "markdown",
   "id": "55014433-b00e-4f55-8ee7-ef4f0efd80fb",
   "metadata": {},
   "source": [
    "**Одушевленность:**"
   ]
  },
  {
   "cell_type": "code",
   "execution_count": null,
   "id": "9f31a96c-81ac-4c2d-a3f9-43621228d996",
   "metadata": {},
   "outputs": [],
   "source": [
    "word_lemma.tag.animacy"
   ]
  },
  {
   "cell_type": "markdown",
   "id": "4d8d3dbe-addd-4c1c-b183-1f40711c9c19",
   "metadata": {},
   "source": [
    "**Пол:**"
   ]
  },
  {
   "cell_type": "code",
   "execution_count": null,
   "id": "ee0a60cc-3dc0-48a8-8bd9-c5b8fdd673a5",
   "metadata": {},
   "outputs": [],
   "source": [
    "word_lemma.tag.gender"
   ]
  },
  {
   "cell_type": "markdown",
   "id": "f0794774-ad3c-48cf-a70a-ee5fb38c6ed4",
   "metadata": {},
   "source": [
    "**Число:**"
   ]
  },
  {
   "cell_type": "code",
   "execution_count": null,
   "id": "ae371f58-b5c5-42c9-88b8-9ca4c60e0f26",
   "metadata": {},
   "outputs": [],
   "source": [
    "word_lemma.tag.number"
   ]
  },
  {
   "cell_type": "markdown",
   "id": "e4e748e3-0347-4c60-a40b-f3812ab53d1e",
   "metadata": {},
   "source": [
    "**Падеж:**"
   ]
  },
  {
   "cell_type": "code",
   "execution_count": null,
   "id": "2b98940a-b9a7-4e76-9d56-6f91f62194a2",
   "metadata": {},
   "outputs": [],
   "source": [
    "word_lemma.tag.case"
   ]
  },
  {
   "cell_type": "markdown",
   "id": "159ad4e8-f88c-40c7-9823-8cb029d8c594",
   "metadata": {},
   "source": [
    "Список возможных граммем (включая другие части речи):"
   ]
  },
  {
   "cell_type": "markdown",
   "id": "933c5c1d-6ebc-4dc6-bdea-5eb58a6fdf4b",
   "metadata": {},
   "source": [
    "**POS**           # Part of Speech, часть речи  \n",
    "**animacy**       # одушевленность  \n",
    "**aspect**        # вид: совершенный или несовершенный  \n",
    "**case**          # падеж  \n",
    "**gender**        # род (мужской, женский, средний)  \n",
    "**involvement**   # включенность говорящего в действие  \n",
    "**mood**          # наклонение (повелительное, изъявительное)  \n",
    "**number**        # число (единственное, множественное)  \n",
    "**person**        # лицо (1, 2, 3)  \n",
    "**tense**         # время (настоящее, прошедшее, будущее)  \n",
    "**transitivity**  # переходность (переходный, непереходный)  \n",
    "**voice**         # залог (действительный, страдательный)"
   ]
  },
  {
   "cell_type": "markdown",
   "id": "821cbe3e-6d2a-4110-943c-707b63d2c529",
   "metadata": {},
   "source": [
    "Список частеречных тэгов:"
   ]
  },
  {
   "attachments": {
    "1f765d77-950d-4196-9b79-5bb27807707a.png": {
     "image/png": "[encoded data removed]"
    }
   },
   "cell_type": "markdown",
   "id": "7fb00531-b3fc-46f9-a594-47aac7df4b82",
   "metadata": {},
   "source": [
    "![image.png](attachment:1f765d77-950d-4196-9b79-5bb27807707a.png)"
   ]
  },
  {
   "cell_type": "markdown",
   "id": "16956f08-6904-4631-aa09-de73e2f6960c",
   "metadata": {},
   "source": [
    "Список падежей:"
   ]
  },
  {
   "attachments": {
    "9d5bfeb9-5a17-45e7-ad91-25e49d42e982.png": {
     "image/png": "[encoded data removed]"
    }
   },
   "cell_type": "markdown",
   "id": "ef3dbf87-46fc-4092-b9e3-91b8eb0b4b20",
   "metadata": {},
   "source": [
    "![image.png](attachment:9d5bfeb9-5a17-45e7-ad91-25e49d42e982.png)"
   ]
  },
  {
   "cell_type": "code",
   "execution_count": null,
   "id": "b1a5e9df-64d9-4700-a33c-f04332e82123",
   "metadata": {},
   "outputs": [],
   "source": [
    "word_lemma = morph.parse('копить')[0]\n",
    "word_lemma.tag.transitivity"
   ]
  },
  {
   "cell_type": "markdown",
   "id": "a094140f-ef43-4b37-b23d-5d5d5114c1e4",
   "metadata": {},
   "source": [
    "Таким образом мы можем отбирать токены, которые удовлетворяют нашему грамматическому запросу. Вернемся к письмам Достоевского. Давайте для начала отрисуем графики облаков слов для **существительных**."
   ]
  },
  {
   "cell_type": "code",
   "execution_count": null,
   "id": "26b97118-7e8c-4dad-9b86-8d98b44521f6",
   "metadata": {},
   "outputs": [],
   "source": [
    "path = 'C:\\\\Users\\\\Aleksandr\\\\DostoyevskiEpistola.txt'\n",
    "with open(path, encoding='utf-8') as txt:\n",
    "    text = txt.read()\n",
    "    text = re.sub('\\n', ' ', text[150000:200000].lower())\n",
    "    text = re.sub('[^а-яА-ЯёЁ -]', '', text.lower())\n",
    "    text_no_stop = ' '.join([token for token in word_tokenize(text) if token not in stopwords_ru])"
   ]
  },
  {
   "cell_type": "code",
   "execution_count": null,
   "id": "34b9e8ad-794b-410b-b246-df81eb97fb82",
   "metadata": {},
   "outputs": [],
   "source": [
    "text_no_stop"
   ]
  },
  {
   "cell_type": "markdown",
   "id": "1041bd0e-238f-4d3d-a957-62caf871bfe3",
   "metadata": {},
   "source": [
    "Напишем простой цикл с условием, который будет писать 'yay', если встреченное слово является существительным, и 'nay', если это что-то другое."
   ]
  },
  {
   "cell_type": "code",
   "execution_count": null,
   "id": "a2d3faff-f16a-43a8-990a-4a24fef25afd",
   "metadata": {},
   "outputs": [],
   "source": [
    "for token in text_no_stop[:1000].split(): #будем проверять каждое слово отдельно по очереди\n",
    "    if morph.parse(token)[0].tag.POS == 'NOUN':\n",
    "        print('yay')\n",
    "    else:\n",
    "        print('nay')"
   ]
  },
  {
   "cell_type": "markdown",
   "id": "de8ed17d-ec32-4dd5-9018-99a7f612b3bd",
   "metadata": {},
   "source": [
    "**Задание 9**. Напишите цикл, который пройдется по тексту и будет распечатывать следующее:  \n",
    "1) \"Это существительное\", если токен имеет тэг NOUN;\n",
    "2) \"Это глагол\", если токен имеет тэг VERB;\n",
    "3) \"Это прилагательное\", если токен имеет тэг ADJF или ADJS;\n",
    "4) \"Это другое\", во всех остальных случаях."
   ]
  },
  {
   "cell_type": "code",
   "execution_count": null,
   "id": "b5f4a69d-4342-41bd-8f95-c1bc5fcac9af",
   "metadata": {},
   "outputs": [],
   "source": []
  },
  {
   "cell_type": "markdown",
   "id": "e203ac2d-b92b-4aca-a465-d643166dc5eb",
   "metadata": {},
   "source": [
    "Продолжим нашу задачу с отрисовкой графика:"
   ]
  },
  {
   "cell_type": "code",
   "execution_count": null,
   "id": "9a0bd44f-428a-4eea-b7c1-8276c2b2b05b",
   "metadata": {},
   "outputs": [],
   "source": [
    "list_of_nouns = [] #сюда мы сохраним все существительные из писем Достоевского\n",
    "for token in text_no_stop.split(): #будем проверять каждое слово отдельно по очереди\n",
    "    word_parsed = morph.parse(token)[0]\n",
    "    if word_parsed.tag.POS == 'NOUN': #проверяем существительные\n",
    "        list_of_nouns.append(word_parsed.normal_form) #сохраняем их в отдельный список\n",
    "only_nouns = ' '.join(list_of_nouns) #создаём из списка строку\n",
    "only_nouns"
   ]
  },
  {
   "cell_type": "markdown",
   "id": "b5d8e0d6-3d12-4953-b46e-db65178dbf87",
   "metadata": {},
   "source": [
    "Теперь отрисуем облако слов по существительным:"
   ]
  },
  {
   "cell_type": "code",
   "execution_count": null,
   "id": "0f6d3729-efc6-43a2-adf0-870d8a3c4d68",
   "metadata": {},
   "outputs": [],
   "source": [
    "wordcloud = WordCloud(background_color='white', colormap = 'inferno_r', width=800, height=400, random_state=21, max_font_size=110).generate(only_nouns)\n",
    "plt.figure(figsize=(10, 8))\n",
    "plt.imshow(wordcloud, interpolation=\"bilinear\")\n",
    "plt.axis(\"off\")\n",
    "plt.show()"
   ]
  },
  {
   "cell_type": "markdown",
   "id": "07fa73ee-6372-48b9-a86a-f2241a7cb140",
   "metadata": {},
   "source": [
    "**Задание 10.** Отрисуйте облака слов по прилагательным."
   ]
  },
  {
   "cell_type": "code",
   "execution_count": null,
   "id": "3ea6249c-5c17-477a-98fe-b18b0c7f2822",
   "metadata": {},
   "outputs": [],
   "source": []
  },
  {
   "cell_type": "markdown",
   "id": "f3d5820a-4409-4851-b87e-854b0bfe6dfb",
   "metadata": {},
   "source": [
    "**Задание 11 (с маленькой звездочкой).** Отрисуйте облака слов по глаголам прошедшего времени."
   ]
  },
  {
   "cell_type": "code",
   "execution_count": null,
   "id": "1bdf35b4-b634-4c51-949f-4969111c234c",
   "metadata": {},
   "outputs": [],
   "source": []
  },
  {
   "cell_type": "code",
   "execution_count": null,
   "id": "8e37c97f-4e4c-47aa-a830-e8a4e460a6cb",
   "metadata": {},
   "outputs": [],
   "source": [
    "word_parsed = morph.parse('откопала')[0]\n",
    "word_parsed"
   ]
  },
  {
   "cell_type": "markdown",
   "id": "871147d6-e66d-41c9-92a8-ceef97344f9e",
   "metadata": {},
   "source": [
    "При желании можно сохранить описания текстов в табличном виде и сохранить, например, определенную статистику."
   ]
  },
  {
   "cell_type": "code",
   "execution_count": null,
   "id": "c5ee6063-2f7b-4928-8da1-e08e9d2f7ef9",
   "metadata": {},
   "outputs": [],
   "source": [
    "import pandas as pd"
   ]
  },
  {
   "cell_type": "markdown",
   "id": "3bccbb05-1c81-4392-a996-79f639b8d6b3",
   "metadata": {},
   "source": [
    "Можно использовать несколько топорный, но эффективный подход, например: "
   ]
  },
  {
   "cell_type": "code",
   "execution_count": null,
   "id": "5d33262e-a7a8-4f58-bb80-378abf45a12b",
   "metadata": {},
   "outputs": [],
   "source": [
    "lemmas = [] #сюда мы сохраним леммы\n",
    "pos_tags = [] #cюда мы сохраним части речи\n",
    "text = 'Мой дядя самых честных правил, Когда не в шутку занемог, Он уважать себя заставил И лучше выдумать не мог. Его пример другим наука; Но, боже мой, какая скука С больным сидеть и день и ночь, Не отходя ни шагу прочь! Какое низкое коварство Полуживого забавлять, Ему подушки поправлять, Печально подносить лекарство, Вздыхать и думать про себя: Когда же чёрт возьмёт тебя?'\n",
    "for token in word_tokenize(text.lower()): #пройдем по каждому токену\n",
    "    word_parsed = morph.parse(token)[0] #получим самый вероятный разбор\n",
    "    lemmas.append(word_parsed.normal_form) #cохраним лемму в список лемм\n",
    "    pos_tags.append(word_parsed.tag.POS) #сохраним тэг в список тэгов\n",
    "\n",
    "print(lemmas)\n",
    "print(pos_tags)"
   ]
  },
  {
   "cell_type": "code",
   "execution_count": null,
   "id": "edf55c7d-014d-42a7-a5f7-bfce0072f7b9",
   "metadata": {},
   "outputs": [],
   "source": [
    "df = pd.DataFrame({'original_text': [text],\n",
    "                   'lemmatized_text': [' '.join(lemmas)], #объединим список лем в текст\n",
    "                   'number_of_words': [len(text.split())], #посчитаем количество слов\n",
    "                   'number_of_types': [len(set(text.split()))]}) #посчитаем количество типов\n",
    "df"
   ]
  },
  {
   "cell_type": "markdown",
   "id": "f879c7f3-2b4b-472f-82c6-cf3346d78dd4",
   "metadata": {},
   "source": [
    "Если у нас несколько текстов, то можно поступить так:"
   ]
  },
  {
   "cell_type": "code",
   "execution_count": null,
   "id": "b67bc255-168b-4cf9-b6ce-0113ea86cc8e",
   "metadata": {},
   "outputs": [],
   "source": [
    "onegin_one_two = ['Мой дядя самых честных правил, Когда не в шутку занемог, Он уважать себя заставил И лучше выдумать не мог. Его пример другим наука; Но, боже мой, какая скука С больным сидеть и день и ночь, Не отходя ни шагу прочь! Какое низкое коварство Полуживого забавлять, Ему подушки поправлять, Печально подносить лекарство, Вздыхать и думать про себя: Когда же чёрт возьмёт тебя?', 'Увы, на разные забавы Я много жизни погубил! Но если б не страдали нравы, Я балы б до сих пор любил. Люблю я бешеную младость, И тесноту, и блеск, и радость, И дам обдуманный наряд; Люблю их ножки; только вряд Найдете вы в России целой Три пары стройных женских ног. Ах! долго я забыть не мог Две ножки... Грустный, охладелый, Я всё их помню, и во сне Они тревожат сердце мне.']\n",
    "print(len(onegin_one_two))"
   ]
  },
  {
   "cell_type": "code",
   "execution_count": null,
   "id": "9ab3dea6-48fc-4e81-b807-413f1198e22c",
   "metadata": {},
   "outputs": [],
   "source": [
    "onegin_one_two = ['Мой дядя самых честных правил, Когда не в шутку занемог, Он уважать себя заставил И лучше выдумать не мог. Его пример другим наука; Но, боже мой, какая скука С больным сидеть и день и ночь, Не отходя ни шагу прочь! Какое низкое коварство Полуживого забавлять, Ему подушки поправлять, Печально подносить лекарство, Вздыхать и думать про себя: Когда же чёрт возьмёт тебя?', 'Увы, на разные забавы Я много жизни погубил! Но если б не страдали нравы, Я балы б до сих пор любил. Люблю я бешеную младость, И тесноту, и блеск, и радость, И дам обдуманный наряд; Люблю их ножки; только вряд Найдете вы в России целой Три пары стройных женских ног. Ах! долго я забыть не мог Две ножки... Грустный, охладелый, Я всё их помню, и во сне Они тревожат сердце мне.']\n",
    "lemmatized_texts_corpus_level = [] #здесь сохранятся отдельные списки лемм для каждого текста (уровень корпуса)\n",
    "pos_tags_corpus_level = [] #здесь сохранятся отдельные списки тэгов для каждого текста (уровень корпуса)\n",
    "\n",
    "for text in onegin_one_two: #проходимся по текстам\n",
    "    lemmas_text_text_level = [] #cписок лемм на уровне текста\n",
    "    pos_tags_text_level = [] #cписок тэгов на уровне текста\n",
    "    for token in word_tokenize(text.lower()): #проходимся по тэгам в корпусе\n",
    "        word_parsed = morph.parse(token)[0] #получаем самый вероятный разбор\n",
    "        lemmas_text_text_level.append(word_parsed.normal_form) #получаем лемму\n",
    "        pos_tags_text_level.append(word_parsed.tag.POS) #получаем частеречный тэг\n",
    "    lemmatized_texts_corpus_level.append(' '.join(lemmas_text_text_level)) #сохраняем в список лемматизированных текстов на уровне корпуса\n",
    "    pos_tags_corpus_level.append(pos_tags_text_level) #сохраняем тэги на уровне корпуса\n",
    "\n",
    "print(lemmatized_texts_corpus_level)\n",
    "print(pos_tags_corpus_level)"
   ]
  },
  {
   "cell_type": "code",
   "execution_count": null,
   "id": "0f2d258c-94a0-4bf2-a0d8-b3e2d7b8664e",
   "metadata": {},
   "outputs": [],
   "source": [
    "df = pd.DataFrame({'original_text': onegin_one_two,\n",
    "                   'lemmatized_text': lemmatized_texts_corpus_level,\n",
    "                   'number_of_words': [len(text_len.split()) for text_len in onegin_one_two], #получаем список с количеством слов в каждом тексте\n",
    "                   'number_of_types': [len(set(text_types.split())) for text_types in onegin_one_two]}) #получаем список с количеством типов в каждом тексте\n",
    "df"
   ]
  },
  {
   "cell_type": "code",
   "execution_count": null,
   "id": "2ca49e78-9f8f-4fa7-90d6-f2d221f97522",
   "metadata": {},
   "outputs": [],
   "source": [
    "[len(set(text_types.split())) for text_types in onegin_one_two]"
   ]
  },
  {
   "cell_type": "markdown",
   "id": "7572d638-a956-4989-8f77-c7d30a0903ae",
   "metadata": {},
   "source": [
    "Можно чуть-чуть доработать и добавить TTR:"
   ]
  },
  {
   "cell_type": "code",
   "execution_count": null,
   "id": "5ab8eaea-88be-4047-8bf9-d9989afa78be",
   "metadata": {},
   "outputs": [],
   "source": [
    "df['type-token_ratio'] = df['number_of_types'] / df ['number_of_words']\n",
    "df"
   ]
  },
  {
   "cell_type": "markdown",
   "id": "2d9e0cd5-8de6-459b-8b7f-d4422a201759",
   "metadata": {},
   "source": [
    "Но пока здесь нет частей речи. Поправим."
   ]
  },
  {
   "cell_type": "code",
   "execution_count": null,
   "id": "955b1d8a-812d-4b31-8eb0-328be1c1b0e0",
   "metadata": {},
   "outputs": [],
   "source": [
    "print(pos_tags_corpus_level)"
   ]
  },
  {
   "cell_type": "code",
   "execution_count": null,
   "id": "0014daaf-7f62-41c2-ad97-915f75d476e0",
   "metadata": {},
   "outputs": [],
   "source": [
    "noun_counts = []\n",
    "verb_counts = []\n",
    "for text in pos_tags_corpus_level: #пройдемся по полученному ранее списку тэгов\n",
    "    counter_n = 0 #cчетчик существительных\n",
    "    counter_v = 0 #cчетчик глаголов\n",
    "    for tag in text:\n",
    "        if tag == 'NOUN': #проверяем существительные\n",
    "            counter_n += 1 \n",
    "        elif tag == 'VERB':\n",
    "            counter_v += 1 #проверяем глаголы\n",
    "    noun_counts.append(counter_n) #выодим на уровень корпуса\n",
    "    verb_counts.append(counter_v) #выодим на уровень корпуса\n",
    "print(noun_counts)\n",
    "print(verb_counts)"
   ]
  },
  {
   "cell_type": "code",
   "execution_count": null,
   "id": "8476d9a3-79af-4362-9d34-7dd558ca1301",
   "metadata": {},
   "outputs": [],
   "source": [
    "df['nouns'] = noun_counts\n",
    "df['verbs'] = verb_counts\n",
    "df"
   ]
  },
  {
   "cell_type": "markdown",
   "id": "0ef261e1-9897-49aa-b6bc-f1a693b68a95",
   "metadata": {},
   "source": [
    "Посчитаем доли существительных и глаголов в текстах:"
   ]
  },
  {
   "cell_type": "code",
   "execution_count": null,
   "id": "d477fb24-a192-4d38-a0c9-178b791e5b29",
   "metadata": {},
   "outputs": [],
   "source": [
    "df.insert(6, 'noun_perc', df['nouns'] / df['number_of_words'] * 100)\n",
    "df"
   ]
  },
  {
   "cell_type": "code",
   "execution_count": null,
   "id": "ea3b491f-5c4c-403b-8e13-6728036fe8fc",
   "metadata": {},
   "outputs": [],
   "source": [
    "df.insert(8, 'verb', df['verbs'] / df['number_of_words'] * 100)\n",
    "df"
   ]
  },
  {
   "cell_type": "markdown",
   "id": "6888190a-944e-4bc3-9476-4453906fd1dd",
   "metadata": {},
   "source": [
    "**Задание 12**. Выберите свой любой (небольшой текст). Обработайте его с помощью pymorphy и создайте датасет, в котором указано количество слов, типов, TTR, количество и доля прилагательных и наречий."
   ]
  },
  {
   "cell_type": "code",
   "execution_count": null,
   "id": "150944ae-3737-46d0-b6f6-7c84afee67a6",
   "metadata": {},
   "outputs": [],
   "source": []
  },
  {
   "cell_type": "markdown",
   "id": "61b16b97-83a9-4889-8ae0-f4fe23aa1eb1",
   "metadata": {},
   "source": [
    "Помещение частеречной разметки по тексту в таблицу:"
   ]
  },
  {
   "cell_type": "code",
   "execution_count": null,
   "id": "19fb12f8-244b-4273-b4a4-b11b6f092723",
   "metadata": {},
   "outputs": [],
   "source": [
    "text = 'Я очень люблю гулять по вечерам и никогда не упускаю возможности это сделать'\n",
    "tokens = []\n",
    "lemmas = []\n",
    "pos_tags = []\n",
    "for token in word_tokenize(text.lower()):\n",
    "    token_parsed = morph.parse(token)[0]\n",
    "    tokens.append(token)\n",
    "    lemmas.append(token_parsed.normal_form)\n",
    "    pos_tags.append(token_parsed.tag.POS)\n",
    "#print(tokens)\n",
    "#print(lemmas)\n",
    "#print(pos_tags)\n",
    "\n",
    "df = pd.DataFrame({'token': tokens,\n",
    "                   'lemma': lemmas,\n",
    "                   'pos_tag': pos_tags})\n",
    "df"
   ]
  },
  {
   "cell_type": "code",
   "execution_count": null,
   "id": "07e2e2ff-4b12-45f5-9f2c-b25e398d99d9",
   "metadata": {},
   "outputs": [],
   "source": [
    "import pandas as pd\n",
    "from pymorphy3 import MorphAnalyzer \n",
    "morph = MorphAnalyzer() \n",
    "from nltk import word_tokenize"
   ]
  },
  {
   "cell_type": "code",
   "execution_count": null,
   "id": "ecbfbf35-1d90-4710-b594-86d726ab6af3",
   "metadata": {},
   "outputs": [],
   "source": [
    "text = 'Я очень люблю гулять по вечерам и никогда не упускаю возможности это сделать'\n",
    "\n",
    "df = pd.DataFrame({'token': [tok for tok in word_tokenize(text)],\n",
    "                   'lemma': [morph.parse(tok)[0].normal_form for tok in word_tokenize(text)],\n",
    "                   'pos_tag': [morph.parse(tok)[0].tag.POS for tok in word_tokenize(text)]})\n",
    "\n",
    "df"
   ]
  },
  {
   "cell_type": "code",
   "execution_count": null,
   "id": "c467e50a-2617-40f8-a404-3b40b57e27fe",
   "metadata": {},
   "outputs": [],
   "source": []
  }
 ],
 "metadata": {
  "kernelspec": {
   "display_name": "Python 3 (ipykernel)",
   "language": "python",
   "name": "python3"
  },
  "language_info": {
   "codemirror_mode": {
    "name": "ipython",
    "version": 3
   },
   "file_extension": ".py",
   "mimetype": "text/x-python",
   "name": "python",
   "nbconvert_exporter": "python",
   "pygments_lexer": "ipython3",
   "version": "3.12.4"
  }
 },
 "nbformat": 4,
 "nbformat_minor": 5
}
